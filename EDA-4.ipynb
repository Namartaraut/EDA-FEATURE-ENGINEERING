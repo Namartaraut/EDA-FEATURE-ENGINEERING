{
 "cells": [
  {
   "cell_type": "markdown",
   "metadata": {},
   "source": [
    "# Automate EDA session"
   ]
  },
  {
   "cell_type": "code",
   "execution_count": 1,
   "metadata": {
    "collapsed": true
   },
   "outputs": [
    {
     "name": "stdout",
     "output_type": "stream",
     "text": [
      "Requirement already satisfied: pandas_profiling in c:\\users\\namrata\\anaconda3\\lib\\site-packages (2.11.0)\n",
      "Requirement already satisfied: numpy>=1.16.0 in c:\\users\\namrata\\anaconda3\\lib\\site-packages (from pandas_profiling) (1.19.2)\n",
      "Requirement already satisfied: visions[type_image_path]==0.6.0 in c:\\users\\namrata\\anaconda3\\lib\\site-packages (from pandas_profiling) (0.6.0)\n",
      "Requirement already satisfied: phik>=0.10.0 in c:\\users\\namrata\\anaconda3\\lib\\site-packages (from pandas_profiling) (0.11.2)\n",
      "Requirement already satisfied: attrs>=19.3.0 in c:\\users\\namrata\\anaconda3\\lib\\site-packages (from pandas_profiling) (20.3.0)\n",
      "Requirement already satisfied: tangled-up-in-unicode>=0.0.6 in c:\\users\\namrata\\anaconda3\\lib\\site-packages (from pandas_profiling) (0.0.7)\n",
      "Requirement already satisfied: requests>=2.24.0 in c:\\users\\namrata\\anaconda3\\lib\\site-packages (from pandas_profiling) (2.24.0)\n",
      "Requirement already satisfied: ipywidgets>=7.5.1 in c:\\users\\namrata\\anaconda3\\lib\\site-packages (from pandas_profiling) (7.5.1)\n",
      "Requirement already satisfied: tqdm>=4.48.2 in c:\\users\\namrata\\anaconda3\\lib\\site-packages (from pandas_profiling) (4.50.2)\n",
      "Requirement already satisfied: htmlmin>=0.1.12 in c:\\users\\namrata\\anaconda3\\lib\\site-packages (from pandas_profiling) (0.1.12)\n",
      "Requirement already satisfied: pandas!=1.0.0,!=1.0.1,!=1.0.2,!=1.1.0,>=0.25.3 in c:\\users\\namrata\\anaconda3\\lib\\site-packages (from pandas_profiling) (1.1.3)\n",
      "Requirement already satisfied: matplotlib>=3.2.0 in c:\\users\\namrata\\anaconda3\\lib\\site-packages (from pandas_profiling) (3.3.2)\n",
      "Requirement already satisfied: confuse>=1.0.0 in c:\\users\\namrata\\anaconda3\\lib\\site-packages (from pandas_profiling) (1.4.0)\n",
      "Requirement already satisfied: seaborn>=0.10.1 in c:\\users\\namrata\\anaconda3\\lib\\site-packages (from pandas_profiling) (0.11.0)\n",
      "Requirement already satisfied: missingno>=0.4.2 in c:\\users\\namrata\\anaconda3\\lib\\site-packages (from pandas_profiling) (0.4.2)\n",
      "Requirement already satisfied: jinja2>=2.11.1 in c:\\users\\namrata\\anaconda3\\lib\\site-packages (from pandas_profiling) (2.11.2)\n",
      "Requirement already satisfied: joblib in c:\\users\\namrata\\anaconda3\\lib\\site-packages (from pandas_profiling) (0.17.0)\n",
      "Requirement already satisfied: scipy>=1.4.1 in c:\\users\\namrata\\anaconda3\\lib\\site-packages (from pandas_profiling) (1.7.1)\n",
      "Requirement already satisfied: networkx>=2.4 in c:\\users\\namrata\\anaconda3\\lib\\site-packages (from visions[type_image_path]==0.6.0->pandas_profiling) (2.5)\n",
      "Requirement already satisfied: imagehash; extra == \"type_image_path\" in c:\\users\\namrata\\anaconda3\\lib\\site-packages (from visions[type_image_path]==0.6.0->pandas_profiling) (4.2.0)\n",
      "Requirement already satisfied: Pillow; extra == \"type_image_path\" in c:\\users\\namrata\\anaconda3\\lib\\site-packages (from visions[type_image_path]==0.6.0->pandas_profiling) (8.0.1)\n",
      "Requirement already satisfied: idna<3,>=2.5 in c:\\users\\namrata\\anaconda3\\lib\\site-packages (from requests>=2.24.0->pandas_profiling) (2.10)\n",
      "Requirement already satisfied: chardet<4,>=3.0.2 in c:\\users\\namrata\\anaconda3\\lib\\site-packages (from requests>=2.24.0->pandas_profiling) (3.0.4)\n",
      "Requirement already satisfied: certifi>=2017.4.17 in c:\\users\\namrata\\anaconda3\\lib\\site-packages (from requests>=2.24.0->pandas_profiling) (2020.6.20)\n",
      "Requirement already satisfied: urllib3!=1.25.0,!=1.25.1,<1.26,>=1.21.1 in c:\\users\\namrata\\anaconda3\\lib\\site-packages (from requests>=2.24.0->pandas_profiling) (1.25.11)\n",
      "Requirement already satisfied: widgetsnbextension~=3.5.0 in c:\\users\\namrata\\anaconda3\\lib\\site-packages (from ipywidgets>=7.5.1->pandas_profiling) (3.5.1)\n",
      "Requirement already satisfied: ipython>=4.0.0; python_version >= \"3.3\" in c:\\users\\namrata\\anaconda3\\lib\\site-packages (from ipywidgets>=7.5.1->pandas_profiling) (7.19.0)\n",
      "Requirement already satisfied: traitlets>=4.3.1 in c:\\users\\namrata\\anaconda3\\lib\\site-packages (from ipywidgets>=7.5.1->pandas_profiling) (5.0.5)\n",
      "Requirement already satisfied: nbformat>=4.2.0 in c:\\users\\namrata\\anaconda3\\lib\\site-packages (from ipywidgets>=7.5.1->pandas_profiling) (5.0.8)\n",
      "Requirement already satisfied: ipykernel>=4.5.1 in c:\\users\\namrata\\anaconda3\\lib\\site-packages (from ipywidgets>=7.5.1->pandas_profiling) (5.3.4)\n",
      "Requirement already satisfied: pytz>=2017.2 in c:\\users\\namrata\\anaconda3\\lib\\site-packages (from pandas!=1.0.0,!=1.0.1,!=1.0.2,!=1.1.0,>=0.25.3->pandas_profiling) (2020.1)\n",
      "Requirement already satisfied: python-dateutil>=2.7.3 in c:\\users\\namrata\\anaconda3\\lib\\site-packages (from pandas!=1.0.0,!=1.0.1,!=1.0.2,!=1.1.0,>=0.25.3->pandas_profiling) (2.8.1)\n",
      "Requirement already satisfied: kiwisolver>=1.0.1 in c:\\users\\namrata\\anaconda3\\lib\\site-packages (from matplotlib>=3.2.0->pandas_profiling) (1.3.0)\n",
      "Requirement already satisfied: cycler>=0.10 in c:\\users\\namrata\\anaconda3\\lib\\site-packages (from matplotlib>=3.2.0->pandas_profiling) (0.10.0)\n",
      "Requirement already satisfied: pyparsing!=2.0.4,!=2.1.2,!=2.1.6,>=2.0.3 in c:\\users\\namrata\\anaconda3\\lib\\site-packages (from matplotlib>=3.2.0->pandas_profiling) (2.4.7)\n",
      "Requirement already satisfied: pyyaml in c:\\users\\namrata\\anaconda3\\lib\\site-packages (from confuse>=1.0.0->pandas_profiling) (5.3.1)\n",
      "Requirement already satisfied: MarkupSafe>=0.23 in c:\\users\\namrata\\anaconda3\\lib\\site-packages (from jinja2>=2.11.1->pandas_profiling) (1.1.1)\n",
      "Requirement already satisfied: decorator>=4.3.0 in c:\\users\\namrata\\anaconda3\\lib\\site-packages (from networkx>=2.4->visions[type_image_path]==0.6.0->pandas_profiling) (4.4.2)\n",
      "Requirement already satisfied: PyWavelets in c:\\users\\namrata\\anaconda3\\lib\\site-packages (from imagehash; extra == \"type_image_path\"->visions[type_image_path]==0.6.0->pandas_profiling) (1.1.1)\n",
      "Requirement already satisfied: six in c:\\users\\namrata\\anaconda3\\lib\\site-packages (from imagehash; extra == \"type_image_path\"->visions[type_image_path]==0.6.0->pandas_profiling) (1.15.0)\n",
      "Requirement already satisfied: notebook>=4.4.1 in c:\\users\\namrata\\anaconda3\\lib\\site-packages (from widgetsnbextension~=3.5.0->ipywidgets>=7.5.1->pandas_profiling) (6.1.4)\n",
      "Requirement already satisfied: backcall in c:\\users\\namrata\\anaconda3\\lib\\site-packages (from ipython>=4.0.0; python_version >= \"3.3\"->ipywidgets>=7.5.1->pandas_profiling) (0.2.0)\n",
      "Requirement already satisfied: colorama; sys_platform == \"win32\" in c:\\users\\namrata\\anaconda3\\lib\\site-packages (from ipython>=4.0.0; python_version >= \"3.3\"->ipywidgets>=7.5.1->pandas_profiling) (0.4.4)\n",
      "Requirement already satisfied: pickleshare in c:\\users\\namrata\\anaconda3\\lib\\site-packages (from ipython>=4.0.0; python_version >= \"3.3\"->ipywidgets>=7.5.1->pandas_profiling) (0.7.5)\n",
      "Requirement already satisfied: jedi>=0.10 in c:\\users\\namrata\\anaconda3\\lib\\site-packages (from ipython>=4.0.0; python_version >= \"3.3\"->ipywidgets>=7.5.1->pandas_profiling) (0.17.1)\n",
      "Requirement already satisfied: prompt-toolkit!=3.0.0,!=3.0.1,<3.1.0,>=2.0.0 in c:\\users\\namrata\\anaconda3\\lib\\site-packages (from ipython>=4.0.0; python_version >= \"3.3\"->ipywidgets>=7.5.1->pandas_profiling) (3.0.8)\n",
      "Requirement already satisfied: setuptools>=18.5 in c:\\users\\namrata\\anaconda3\\lib\\site-packages (from ipython>=4.0.0; python_version >= \"3.3\"->ipywidgets>=7.5.1->pandas_profiling) (50.3.1.post20201107)\n",
      "Requirement already satisfied: pygments in c:\\users\\namrata\\anaconda3\\lib\\site-packages (from ipython>=4.0.0; python_version >= \"3.3\"->ipywidgets>=7.5.1->pandas_profiling) (2.7.2)\n",
      "Requirement already satisfied: ipython-genutils in c:\\users\\namrata\\anaconda3\\lib\\site-packages (from traitlets>=4.3.1->ipywidgets>=7.5.1->pandas_profiling) (0.2.0)\n",
      "Requirement already satisfied: jupyter-core in c:\\users\\namrata\\anaconda3\\lib\\site-packages (from nbformat>=4.2.0->ipywidgets>=7.5.1->pandas_profiling) (4.6.3)\n",
      "Requirement already satisfied: jsonschema!=2.5.0,>=2.4 in c:\\users\\namrata\\anaconda3\\lib\\site-packages (from nbformat>=4.2.0->ipywidgets>=7.5.1->pandas_profiling) (3.2.0)\n",
      "Requirement already satisfied: tornado>=4.2 in c:\\users\\namrata\\anaconda3\\lib\\site-packages (from ipykernel>=4.5.1->ipywidgets>=7.5.1->pandas_profiling) (6.0.4)\n",
      "Requirement already satisfied: jupyter-client in c:\\users\\namrata\\anaconda3\\lib\\site-packages (from ipykernel>=4.5.1->ipywidgets>=7.5.1->pandas_profiling) (6.1.7)\n",
      "Requirement already satisfied: terminado>=0.8.3 in c:\\users\\namrata\\anaconda3\\lib\\site-packages (from notebook>=4.4.1->widgetsnbextension~=3.5.0->ipywidgets>=7.5.1->pandas_profiling) (0.9.1)\n",
      "Requirement already satisfied: prometheus-client in c:\\users\\namrata\\anaconda3\\lib\\site-packages (from notebook>=4.4.1->widgetsnbextension~=3.5.0->ipywidgets>=7.5.1->pandas_profiling) (0.8.0)\n",
      "Requirement already satisfied: nbconvert in c:\\users\\namrata\\anaconda3\\lib\\site-packages (from notebook>=4.4.1->widgetsnbextension~=3.5.0->ipywidgets>=7.5.1->pandas_profiling) (6.0.7)\n",
      "Requirement already satisfied: Send2Trash in c:\\users\\namrata\\anaconda3\\lib\\site-packages (from notebook>=4.4.1->widgetsnbextension~=3.5.0->ipywidgets>=7.5.1->pandas_profiling) (1.5.0)\n",
      "Requirement already satisfied: pyzmq>=17 in c:\\users\\namrata\\anaconda3\\lib\\site-packages (from notebook>=4.4.1->widgetsnbextension~=3.5.0->ipywidgets>=7.5.1->pandas_profiling) (19.0.2)\n",
      "Requirement already satisfied: argon2-cffi in c:\\users\\namrata\\anaconda3\\lib\\site-packages (from notebook>=4.4.1->widgetsnbextension~=3.5.0->ipywidgets>=7.5.1->pandas_profiling) (20.1.0)\n",
      "Requirement already satisfied: parso<0.8.0,>=0.7.0 in c:\\users\\namrata\\anaconda3\\lib\\site-packages (from jedi>=0.10->ipython>=4.0.0; python_version >= \"3.3\"->ipywidgets>=7.5.1->pandas_profiling) (0.7.0)\n",
      "Requirement already satisfied: wcwidth in c:\\users\\namrata\\anaconda3\\lib\\site-packages (from prompt-toolkit!=3.0.0,!=3.0.1,<3.1.0,>=2.0.0->ipython>=4.0.0; python_version >= \"3.3\"->ipywidgets>=7.5.1->pandas_profiling) (0.2.5)\n",
      "Requirement already satisfied: pywin32>=1.0; sys_platform == \"win32\" in c:\\users\\namrata\\anaconda3\\lib\\site-packages (from jupyter-core->nbformat>=4.2.0->ipywidgets>=7.5.1->pandas_profiling) (227)\n",
      "Requirement already satisfied: pyrsistent>=0.14.0 in c:\\users\\namrata\\anaconda3\\lib\\site-packages (from jsonschema!=2.5.0,>=2.4->nbformat>=4.2.0->ipywidgets>=7.5.1->pandas_profiling) (0.17.3)\n",
      "Requirement already satisfied: pywinpty>=0.5 in c:\\users\\namrata\\anaconda3\\lib\\site-packages (from terminado>=0.8.3->notebook>=4.4.1->widgetsnbextension~=3.5.0->ipywidgets>=7.5.1->pandas_profiling) (0.5.7)\n",
      "Requirement already satisfied: nbclient<0.6.0,>=0.5.0 in c:\\users\\namrata\\anaconda3\\lib\\site-packages (from nbconvert->notebook>=4.4.1->widgetsnbextension~=3.5.0->ipywidgets>=7.5.1->pandas_profiling) (0.5.1)\n",
      "Requirement already satisfied: defusedxml in c:\\users\\namrata\\anaconda3\\lib\\site-packages (from nbconvert->notebook>=4.4.1->widgetsnbextension~=3.5.0->ipywidgets>=7.5.1->pandas_profiling) (0.6.0)\n",
      "Requirement already satisfied: bleach in c:\\users\\namrata\\anaconda3\\lib\\site-packages (from nbconvert->notebook>=4.4.1->widgetsnbextension~=3.5.0->ipywidgets>=7.5.1->pandas_profiling) (3.2.1)\n",
      "Requirement already satisfied: mistune<2,>=0.8.1 in c:\\users\\namrata\\anaconda3\\lib\\site-packages (from nbconvert->notebook>=4.4.1->widgetsnbextension~=3.5.0->ipywidgets>=7.5.1->pandas_profiling) (0.8.4)\n",
      "Requirement already satisfied: pandocfilters>=1.4.1 in c:\\users\\namrata\\anaconda3\\lib\\site-packages (from nbconvert->notebook>=4.4.1->widgetsnbextension~=3.5.0->ipywidgets>=7.5.1->pandas_profiling) (1.4.3)\n",
      "Requirement already satisfied: jupyterlab-pygments in c:\\users\\namrata\\anaconda3\\lib\\site-packages (from nbconvert->notebook>=4.4.1->widgetsnbextension~=3.5.0->ipywidgets>=7.5.1->pandas_profiling) (0.1.2)\n",
      "Requirement already satisfied: testpath in c:\\users\\namrata\\anaconda3\\lib\\site-packages (from nbconvert->notebook>=4.4.1->widgetsnbextension~=3.5.0->ipywidgets>=7.5.1->pandas_profiling) (0.4.4)\n",
      "Requirement already satisfied: entrypoints>=0.2.2 in c:\\users\\namrata\\anaconda3\\lib\\site-packages (from nbconvert->notebook>=4.4.1->widgetsnbextension~=3.5.0->ipywidgets>=7.5.1->pandas_profiling) (0.3)\n",
      "Requirement already satisfied: cffi>=1.0.0 in c:\\users\\namrata\\anaconda3\\lib\\site-packages (from argon2-cffi->notebook>=4.4.1->widgetsnbextension~=3.5.0->ipywidgets>=7.5.1->pandas_profiling) (1.14.3)\n",
      "Requirement already satisfied: async-generator in c:\\users\\namrata\\anaconda3\\lib\\site-packages (from nbclient<0.6.0,>=0.5.0->nbconvert->notebook>=4.4.1->widgetsnbextension~=3.5.0->ipywidgets>=7.5.1->pandas_profiling) (1.10)\n",
      "Requirement already satisfied: nest-asyncio in c:\\users\\namrata\\anaconda3\\lib\\site-packages (from nbclient<0.6.0,>=0.5.0->nbconvert->notebook>=4.4.1->widgetsnbextension~=3.5.0->ipywidgets>=7.5.1->pandas_profiling) (1.4.2)\n",
      "Requirement already satisfied: packaging in c:\\users\\namrata\\anaconda3\\lib\\site-packages (from bleach->nbconvert->notebook>=4.4.1->widgetsnbextension~=3.5.0->ipywidgets>=7.5.1->pandas_profiling) (20.4)\n",
      "Requirement already satisfied: webencodings in c:\\users\\namrata\\anaconda3\\lib\\site-packages (from bleach->nbconvert->notebook>=4.4.1->widgetsnbextension~=3.5.0->ipywidgets>=7.5.1->pandas_profiling) (0.5.1)\n",
      "Requirement already satisfied: pycparser in c:\\users\\namrata\\anaconda3\\lib\\site-packages (from cffi>=1.0.0->argon2-cffi->notebook>=4.4.1->widgetsnbextension~=3.5.0->ipywidgets>=7.5.1->pandas_profiling) (2.20)\n"
     ]
    }
   ],
   "source": [
    "!pip install pandas_profiling"
   ]
  },
  {
   "cell_type": "code",
   "execution_count": 2,
   "metadata": {},
   "outputs": [],
   "source": [
    "import pandas_profiling"
   ]
  },
  {
   "cell_type": "code",
   "execution_count": 3,
   "metadata": {},
   "outputs": [],
   "source": [
    "import seaborn as sns"
   ]
  },
  {
   "cell_type": "code",
   "execution_count": 4,
   "metadata": {},
   "outputs": [],
   "source": [
    "df=sns.load_dataset('tips')"
   ]
  },
  {
   "cell_type": "code",
   "execution_count": 5,
   "metadata": {
    "collapsed": true
   },
   "outputs": [
    {
     "data": {
      "text/html": [
       "<div>\n",
       "<style scoped>\n",
       "    .dataframe tbody tr th:only-of-type {\n",
       "        vertical-align: middle;\n",
       "    }\n",
       "\n",
       "    .dataframe tbody tr th {\n",
       "        vertical-align: top;\n",
       "    }\n",
       "\n",
       "    .dataframe thead th {\n",
       "        text-align: right;\n",
       "    }\n",
       "</style>\n",
       "<table border=\"1\" class=\"dataframe\">\n",
       "  <thead>\n",
       "    <tr style=\"text-align: right;\">\n",
       "      <th></th>\n",
       "      <th>total_bill</th>\n",
       "      <th>tip</th>\n",
       "      <th>sex</th>\n",
       "      <th>smoker</th>\n",
       "      <th>day</th>\n",
       "      <th>time</th>\n",
       "      <th>size</th>\n",
       "    </tr>\n",
       "  </thead>\n",
       "  <tbody>\n",
       "    <tr>\n",
       "      <th>0</th>\n",
       "      <td>16.99</td>\n",
       "      <td>1.01</td>\n",
       "      <td>Female</td>\n",
       "      <td>No</td>\n",
       "      <td>Sun</td>\n",
       "      <td>Dinner</td>\n",
       "      <td>2</td>\n",
       "    </tr>\n",
       "    <tr>\n",
       "      <th>1</th>\n",
       "      <td>10.34</td>\n",
       "      <td>1.66</td>\n",
       "      <td>Male</td>\n",
       "      <td>No</td>\n",
       "      <td>Sun</td>\n",
       "      <td>Dinner</td>\n",
       "      <td>3</td>\n",
       "    </tr>\n",
       "    <tr>\n",
       "      <th>2</th>\n",
       "      <td>21.01</td>\n",
       "      <td>3.50</td>\n",
       "      <td>Male</td>\n",
       "      <td>No</td>\n",
       "      <td>Sun</td>\n",
       "      <td>Dinner</td>\n",
       "      <td>3</td>\n",
       "    </tr>\n",
       "    <tr>\n",
       "      <th>3</th>\n",
       "      <td>23.68</td>\n",
       "      <td>3.31</td>\n",
       "      <td>Male</td>\n",
       "      <td>No</td>\n",
       "      <td>Sun</td>\n",
       "      <td>Dinner</td>\n",
       "      <td>2</td>\n",
       "    </tr>\n",
       "    <tr>\n",
       "      <th>4</th>\n",
       "      <td>24.59</td>\n",
       "      <td>3.61</td>\n",
       "      <td>Female</td>\n",
       "      <td>No</td>\n",
       "      <td>Sun</td>\n",
       "      <td>Dinner</td>\n",
       "      <td>4</td>\n",
       "    </tr>\n",
       "    <tr>\n",
       "      <th>...</th>\n",
       "      <td>...</td>\n",
       "      <td>...</td>\n",
       "      <td>...</td>\n",
       "      <td>...</td>\n",
       "      <td>...</td>\n",
       "      <td>...</td>\n",
       "      <td>...</td>\n",
       "    </tr>\n",
       "    <tr>\n",
       "      <th>239</th>\n",
       "      <td>29.03</td>\n",
       "      <td>5.92</td>\n",
       "      <td>Male</td>\n",
       "      <td>No</td>\n",
       "      <td>Sat</td>\n",
       "      <td>Dinner</td>\n",
       "      <td>3</td>\n",
       "    </tr>\n",
       "    <tr>\n",
       "      <th>240</th>\n",
       "      <td>27.18</td>\n",
       "      <td>2.00</td>\n",
       "      <td>Female</td>\n",
       "      <td>Yes</td>\n",
       "      <td>Sat</td>\n",
       "      <td>Dinner</td>\n",
       "      <td>2</td>\n",
       "    </tr>\n",
       "    <tr>\n",
       "      <th>241</th>\n",
       "      <td>22.67</td>\n",
       "      <td>2.00</td>\n",
       "      <td>Male</td>\n",
       "      <td>Yes</td>\n",
       "      <td>Sat</td>\n",
       "      <td>Dinner</td>\n",
       "      <td>2</td>\n",
       "    </tr>\n",
       "    <tr>\n",
       "      <th>242</th>\n",
       "      <td>17.82</td>\n",
       "      <td>1.75</td>\n",
       "      <td>Male</td>\n",
       "      <td>No</td>\n",
       "      <td>Sat</td>\n",
       "      <td>Dinner</td>\n",
       "      <td>2</td>\n",
       "    </tr>\n",
       "    <tr>\n",
       "      <th>243</th>\n",
       "      <td>18.78</td>\n",
       "      <td>3.00</td>\n",
       "      <td>Female</td>\n",
       "      <td>No</td>\n",
       "      <td>Thur</td>\n",
       "      <td>Dinner</td>\n",
       "      <td>2</td>\n",
       "    </tr>\n",
       "  </tbody>\n",
       "</table>\n",
       "<p>244 rows × 7 columns</p>\n",
       "</div>"
      ],
      "text/plain": [
       "     total_bill   tip     sex smoker   day    time  size\n",
       "0         16.99  1.01  Female     No   Sun  Dinner     2\n",
       "1         10.34  1.66    Male     No   Sun  Dinner     3\n",
       "2         21.01  3.50    Male     No   Sun  Dinner     3\n",
       "3         23.68  3.31    Male     No   Sun  Dinner     2\n",
       "4         24.59  3.61  Female     No   Sun  Dinner     4\n",
       "..          ...   ...     ...    ...   ...     ...   ...\n",
       "239       29.03  5.92    Male     No   Sat  Dinner     3\n",
       "240       27.18  2.00  Female    Yes   Sat  Dinner     2\n",
       "241       22.67  2.00    Male    Yes   Sat  Dinner     2\n",
       "242       17.82  1.75    Male     No   Sat  Dinner     2\n",
       "243       18.78  3.00  Female     No  Thur  Dinner     2\n",
       "\n",
       "[244 rows x 7 columns]"
      ]
     },
     "execution_count": 5,
     "metadata": {},
     "output_type": "execute_result"
    }
   ],
   "source": [
    "df"
   ]
  },
  {
   "cell_type": "code",
   "execution_count": 6,
   "metadata": {},
   "outputs": [],
   "source": [
    "from pandas_profiling import ProfileReport"
   ]
  },
  {
   "cell_type": "code",
   "execution_count": 7,
   "metadata": {},
   "outputs": [],
   "source": [
    "Profile=ProfileReport(df,explorative = True, dark_mode=True)"
   ]
  },
  {
   "cell_type": "code",
   "execution_count": 9,
   "metadata": {
    "collapsed": true
   },
   "outputs": [
    {
     "data": {
      "application/vnd.jupyter.widget-view+json": {
       "model_id": "1dcb4cf1505c45bdaf25f14d51986e53",
       "version_major": 2,
       "version_minor": 0
      },
      "text/plain": [
       "HBox(children=(HTML(value='Summarize dataset'), FloatProgress(value=0.0, max=20.0), HTML(value='')))"
      ]
     },
     "metadata": {},
     "output_type": "display_data"
    },
    {
     "name": "stdout",
     "output_type": "stream",
     "text": [
      "\n"
     ]
    },
    {
     "data": {
      "application/vnd.jupyter.widget-view+json": {
       "model_id": "abf374e41b3e47d5be4903d0477a4d55",
       "version_major": 2,
       "version_minor": 0
      },
      "text/plain": [
       "HBox(children=(HTML(value='Generate report structure'), FloatProgress(value=0.0, max=1.0), HTML(value='')))"
      ]
     },
     "metadata": {},
     "output_type": "display_data"
    },
    {
     "name": "stdout",
     "output_type": "stream",
     "text": [
      "\n"
     ]
    },
    {
     "data": {
      "application/vnd.jupyter.widget-view+json": {
       "model_id": "ef03ab43ffbf4225b1ccb0eeb1b7e62a",
       "version_major": 2,
       "version_minor": 0
      },
      "text/plain": [
       "HBox(children=(HTML(value='Render HTML'), FloatProgress(value=0.0, max=1.0), HTML(value='')))"
      ]
     },
     "metadata": {},
     "output_type": "display_data"
    },
    {
     "name": "stdout",
     "output_type": "stream",
     "text": [
      "\n"
     ]
    },
    {
     "data": {
      "application/vnd.jupyter.widget-view+json": {
       "model_id": "ed386bd1fbb84ee188678a96b09a0426",
       "version_major": 2,
       "version_minor": 0
      },
      "text/plain": [
       "HBox(children=(HTML(value='Export report to file'), FloatProgress(value=0.0, max=1.0), HTML(value='')))"
      ]
     },
     "metadata": {},
     "output_type": "display_data"
    },
    {
     "name": "stdout",
     "output_type": "stream",
     "text": [
      "\n"
     ]
    }
   ],
   "source": [
    "Profile.to_file('ouput.html')"
   ]
  },
  {
   "cell_type": "code",
   "execution_count": 11,
   "metadata": {
    "collapsed": true
   },
   "outputs": [
    {
     "name": "stdout",
     "output_type": "stream",
     "text": [
      "Collecting dtale\n",
      "  Downloading dtale-2.0.0-py2.py3-none-any.whl (11.4 MB)\n",
      "Requirement already satisfied: xlrd in c:\\users\\namrata\\anaconda3\\lib\\site-packages (from dtale) (1.2.0)\n",
      "Collecting squarify\n",
      "  Downloading squarify-0.4.3-py3-none-any.whl (4.3 kB)\n",
      "Collecting dash-colorscales\n",
      "  Downloading dash_colorscales-0.0.4.tar.gz (62 kB)\n",
      "Requirement already satisfied: numpy; python_version >= \"3.0\" in c:\\users\\namrata\\anaconda3\\lib\\site-packages (from dtale) (1.19.2)\n",
      "Requirement already satisfied: future>=0.14.0 in c:\\users\\namrata\\anaconda3\\lib\\site-packages (from dtale) (0.18.2)\n",
      "Collecting flask-ngrok; python_version > \"3.0\"\n",
      "  Downloading flask_ngrok-0.0.25-py3-none-any.whl (3.1 kB)\n",
      "Collecting kaleido; python_version > \"3.6\"\n",
      "  Downloading kaleido-0.2.1-py2.py3-none-win_amd64.whl (65.9 MB)\n",
      "Requirement already satisfied: pandas in c:\\users\\namrata\\anaconda3\\lib\\site-packages (from dtale) (1.1.3)\n",
      "Requirement already satisfied: openpyxl; python_version >= \"3.0\" in c:\\users\\namrata\\anaconda3\\lib\\site-packages (from dtale) (3.0.5)\n",
      "Collecting xarray; python_version >= \"3.0\"\n",
      "  Downloading xarray-0.21.1-py3-none-any.whl (865 kB)\n",
      "Collecting ppscore; python_version >= \"3.6\"\n",
      "  Downloading ppscore-1.2.0.tar.gz (47 kB)\n",
      "Requirement already satisfied: seaborn; python_version >= \"3.6\" in c:\\users\\namrata\\anaconda3\\lib\\site-packages (from dtale) (0.11.0)\n",
      "Collecting scikit-learn==0.24.2; python_version > \"3.0\"\n",
      "  Downloading scikit_learn-0.24.2-cp38-cp38-win_amd64.whl (6.9 MB)\n",
      "Requirement already satisfied: scipy; python_version >= \"3.8\" in c:\\users\\namrata\\anaconda3\\lib\\site-packages (from dtale) (1.7.1)\n",
      "Requirement already satisfied: cycler; python_version > \"3.0\" in c:\\users\\namrata\\anaconda3\\lib\\site-packages (from dtale) (0.10.0)\n",
      "Requirement already satisfied: networkx; python_version >= \"3.0\" in c:\\users\\namrata\\anaconda3\\lib\\site-packages (from dtale) (2.5)\n",
      "Collecting dash>=2.0.0; python_version > \"3.0\"\n",
      "  Downloading dash-2.2.0-py3-none-any.whl (8.5 MB)\n",
      "Requirement already satisfied: missingno<=0.4.2 in c:\\users\\namrata\\anaconda3\\lib\\site-packages (from dtale) (0.4.2)\n",
      "Collecting dash-daq\n",
      "  Downloading dash_daq-0.5.0.tar.gz (642 kB)\n",
      "Requirement already satisfied: requests in c:\\users\\namrata\\anaconda3\\lib\\site-packages (from dtale) (2.24.0)\n",
      "Collecting dash-bootstrap-components; python_version > \"3.0\"\n",
      "  Downloading dash_bootstrap_components-1.0.3-py3-none-any.whl (209 kB)\n",
      "Requirement already satisfied: itsdangerous; python_version >= \"3.7\" in c:\\users\\namrata\\anaconda3\\lib\\site-packages (from dtale) (1.1.0)\n",
      "Requirement already satisfied: six in c:\\users\\namrata\\anaconda3\\lib\\site-packages (from dtale) (1.15.0)\n",
      "Collecting strsimpy\n",
      "  Downloading strsimpy-0.2.1-py3-none-any.whl (45 kB)\n",
      "Requirement already satisfied: matplotlib; python_version > \"3.6\" in c:\\users\\namrata\\anaconda3\\lib\\site-packages (from dtale) (3.3.2)\n",
      "Requirement already satisfied: statsmodels; python_version > \"3.7\" in c:\\users\\namrata\\anaconda3\\lib\\site-packages (from dtale) (0.12.0)\n",
      "Requirement already satisfied: et-xmlfile; python_version >= \"3.6\" in c:\\users\\namrata\\anaconda3\\lib\\site-packages (from dtale) (1.0.1)\n",
      "Requirement already satisfied: plotly>=5.0.0; python_version >= \"3.6\" in c:\\users\\namrata\\anaconda3\\lib\\site-packages (from dtale) (5.3.1)\n",
      "Collecting Flask-Compress\n",
      "  Downloading Flask_Compress-1.10.1-py3-none-any.whl (7.9 kB)\n",
      "Requirement already satisfied: Flask; python_version >= \"3.7\" in c:\\users\\namrata\\anaconda3\\lib\\site-packages (from dtale) (1.1.2)\n",
      "Collecting lz4; python_version > \"3.0\"\n",
      "  Downloading lz4-4.0.0-cp38-cp38-win_amd64.whl (96 kB)\n",
      "Requirement already satisfied: python-dateutil>=2.7.3 in c:\\users\\namrata\\anaconda3\\lib\\site-packages (from pandas->dtale) (2.8.1)\n",
      "Requirement already satisfied: pytz>=2017.2 in c:\\users\\namrata\\anaconda3\\lib\\site-packages (from pandas->dtale) (2020.1)\n",
      "Requirement already satisfied: jdcal in c:\\users\\namrata\\anaconda3\\lib\\site-packages (from openpyxl; python_version >= \"3.0\"->dtale) (1.4.1)\n",
      "Requirement already satisfied: packaging>=20.0 in c:\\users\\namrata\\anaconda3\\lib\\site-packages (from xarray; python_version >= \"3.0\"->dtale) (20.4)\n",
      "Requirement already satisfied: joblib>=0.11 in c:\\users\\namrata\\anaconda3\\lib\\site-packages (from scikit-learn==0.24.2; python_version > \"3.0\"->dtale) (0.17.0)\n",
      "Requirement already satisfied: threadpoolctl>=2.0.0 in c:\\users\\namrata\\anaconda3\\lib\\site-packages (from scikit-learn==0.24.2; python_version > \"3.0\"->dtale) (2.1.0)\n",
      "Requirement already satisfied: decorator>=4.3.0 in c:\\users\\namrata\\anaconda3\\lib\\site-packages (from networkx; python_version >= \"3.0\"->dtale) (4.4.2)\n",
      "Collecting dash-core-components==2.0.0\n",
      "  Downloading dash_core_components-2.0.0.tar.gz (3.4 kB)\n",
      "Collecting dash-html-components==2.0.0\n",
      "  Downloading dash_html_components-2.0.0.tar.gz (3.8 kB)\n",
      "Collecting dash-table==5.0.0\n",
      "  Downloading dash_table-5.0.0.tar.gz (3.4 kB)\n",
      "Requirement already satisfied: certifi>=2017.4.17 in c:\\users\\namrata\\anaconda3\\lib\\site-packages (from requests->dtale) (2020.6.20)\n",
      "Requirement already satisfied: urllib3!=1.25.0,!=1.25.1,<1.26,>=1.21.1 in c:\\users\\namrata\\anaconda3\\lib\\site-packages (from requests->dtale) (1.25.11)\n",
      "Requirement already satisfied: idna<3,>=2.5 in c:\\users\\namrata\\anaconda3\\lib\\site-packages (from requests->dtale) (2.10)\n",
      "Requirement already satisfied: chardet<4,>=3.0.2 in c:\\users\\namrata\\anaconda3\\lib\\site-packages (from requests->dtale) (3.0.4)\n",
      "Requirement already satisfied: pillow>=6.2.0 in c:\\users\\namrata\\anaconda3\\lib\\site-packages (from matplotlib; python_version > \"3.6\"->dtale) (8.0.1)\n",
      "Requirement already satisfied: pyparsing!=2.0.4,!=2.1.2,!=2.1.6,>=2.0.3 in c:\\users\\namrata\\anaconda3\\lib\\site-packages (from matplotlib; python_version > \"3.6\"->dtale) (2.4.7)\n",
      "Requirement already satisfied: kiwisolver>=1.0.1 in c:\\users\\namrata\\anaconda3\\lib\\site-packages (from matplotlib; python_version > \"3.6\"->dtale) (1.3.0)\n",
      "Requirement already satisfied: patsy>=0.5 in c:\\users\\namrata\\anaconda3\\lib\\site-packages (from statsmodels; python_version > \"3.7\"->dtale) (0.5.1)\n",
      "Requirement already satisfied: tenacity>=6.2.0 in c:\\users\\namrata\\anaconda3\\lib\\site-packages (from plotly>=5.0.0; python_version >= \"3.6\"->dtale) (8.0.1)\n",
      "Collecting brotli\n",
      "  Downloading Brotli-1.0.9-cp38-cp38-win_amd64.whl (365 kB)\n",
      "Requirement already satisfied: Werkzeug>=0.15 in c:\\users\\namrata\\anaconda3\\lib\\site-packages (from Flask; python_version >= \"3.7\"->dtale) (1.0.1)\n",
      "Requirement already satisfied: click>=5.1 in c:\\users\\namrata\\anaconda3\\lib\\site-packages (from Flask; python_version >= \"3.7\"->dtale) (7.1.2)\n",
      "Requirement already satisfied: Jinja2>=2.10.1 in c:\\users\\namrata\\anaconda3\\lib\\site-packages (from Flask; python_version >= \"3.7\"->dtale) (2.11.2)\n",
      "Requirement already satisfied: MarkupSafe>=0.23 in c:\\users\\namrata\\anaconda3\\lib\\site-packages (from Jinja2>=2.10.1->Flask; python_version >= \"3.7\"->dtale) (1.1.1)\n",
      "Building wheels for collected packages: dash-colorscales, ppscore, dash-daq, dash-core-components, dash-html-components, dash-table\n",
      "  Building wheel for dash-colorscales (setup.py): started\n",
      "  Building wheel for dash-colorscales (setup.py): finished with status 'done'\n",
      "  Created wheel for dash-colorscales: filename=dash_colorscales-0.0.4-py3-none-any.whl size=62603 sha256=819206977a0ef5bcba4628b45caa084a0660ee8570b79a689675aeca7af96a15\n",
      "  Stored in directory: c:\\users\\namrata\\appdata\\local\\pip\\cache\\wheels\\fe\\33\\33\\172dbfe1efc739352828854a113df599a428b58f68ed0c4f75\n",
      "  Building wheel for ppscore (setup.py): started\n",
      "  Building wheel for ppscore (setup.py): finished with status 'done'\n",
      "  Created wheel for ppscore: filename=ppscore-1.2.0-py2.py3-none-any.whl size=13055 sha256=15b3f1508d6049b8fc61a1e1ea85502b6cf18e12edd0279cf7b2d7804651dfbd\n",
      "  Stored in directory: c:\\users\\namrata\\appdata\\local\\pip\\cache\\wheels\\fb\\0e\\65\\da65ce669381fc01b6ef990d301d3586991f89bff1175877a4\n",
      "  Building wheel for dash-daq (setup.py): started\n",
      "  Building wheel for dash-daq (setup.py): finished with status 'done'\n",
      "  Created wheel for dash-daq: filename=dash_daq-0.5.0-py3-none-any.whl size=669706 sha256=59e7cd180e689c5aa5a3cbe0c3d539261b02729bb7377bea486766d2d2e7e98c\n",
      "  Stored in directory: c:\\users\\namrata\\appdata\\local\\pip\\cache\\wheels\\00\\35\\e5\\57e90f10c529601c6627400513cb65dd5adb09752411f5a050\n",
      "  Building wheel for dash-core-components (setup.py): started\n",
      "  Building wheel for dash-core-components (setup.py): finished with status 'done'\n",
      "  Created wheel for dash-core-components: filename=dash_core_components-2.0.0-py3-none-any.whl size=3806 sha256=c45c520789c9974a32b51e64ce63fa176e6274666b10ec07feba4b893a1bf63f\n",
      "  Stored in directory: c:\\users\\namrata\\appdata\\local\\pip\\cache\\wheels\\52\\e4\\f3\\16724791571a955a46d54650510c98c04ab7d339626aee27cc\n",
      "  Building wheel for dash-html-components (setup.py): started\n",
      "  Building wheel for dash-html-components (setup.py): finished with status 'done'\n",
      "  Created wheel for dash-html-components: filename=dash_html_components-2.0.0-py3-none-any.whl size=4074 sha256=d6ef0a9606d32680aba8d0098ffc50467773222d6db215339fbee0a7bd6c9919\n",
      "  Stored in directory: c:\\users\\namrata\\appdata\\local\\pip\\cache\\wheels\\73\\d8\\8d\\92f612c03c895f19bcc56a6c54be7bb41aaa698012a5624f60\n",
      "  Building wheel for dash-table (setup.py): started\n",
      "  Building wheel for dash-table (setup.py): finished with status 'done'\n",
      "  Created wheel for dash-table: filename=dash_table-5.0.0-py3-none-any.whl size=3901 sha256=a0f396ddede607a71d1e45041f40890b1c3e4a348263d4320eb07acf2ea402c5\n",
      "  Stored in directory: c:\\users\\namrata\\appdata\\local\\pip\\cache\\wheels\\a6\\fb\\f5\\4adf241f384634f52028f15eab6a325e77b8766a0a00816bbf\n",
      "Successfully built dash-colorscales ppscore dash-daq dash-core-components dash-html-components dash-table\n",
      "Installing collected packages: squarify, dash-colorscales, flask-ngrok, kaleido, xarray, scikit-learn, ppscore, brotli, Flask-Compress, dash-core-components, dash-html-components, dash-table, dash, dash-daq, dash-bootstrap-components, strsimpy, lz4, dtale\n",
      "  Attempting uninstall: scikit-learn\n",
      "    Found existing installation: scikit-learn 1.0.1\n",
      "    Uninstalling scikit-learn-1.0.1:\n",
      "      Successfully uninstalled scikit-learn-1.0.1\n",
      "Successfully installed Flask-Compress-1.10.1 brotli-1.0.9 dash-2.2.0 dash-bootstrap-components-1.0.3 dash-colorscales-0.0.4 dash-core-components-2.0.0 dash-daq-0.5.0 dash-html-components-2.0.0 dash-table-5.0.0 dtale-2.0.0 flask-ngrok-0.0.25 kaleido-0.2.1 lz4-4.0.0 ppscore-1.2.0 scikit-learn-0.24.2 squarify-0.4.3 strsimpy-0.2.1 xarray-0.21.1\n"
     ]
    }
   ],
   "source": [
    "#dtale\n",
    "!pip install dtale"
   ]
  },
  {
   "cell_type": "code",
   "execution_count": 12,
   "metadata": {
    "collapsed": true
   },
   "outputs": [
    {
     "data": {
      "text/html": [
       "\n",
       "        <iframe\n",
       "            width=\"100%\"\n",
       "            height=\"475\"\n",
       "            src=\"http://LAPTOP-9R25Q5VR:40000/dtale/iframe/1\"\n",
       "            frameborder=\"0\"\n",
       "            allowfullscreen\n",
       "        ></iframe>\n",
       "        "
      ],
      "text/plain": [
       "<IPython.lib.display.IFrame at 0x1e97b63f490>"
      ]
     },
     "metadata": {},
     "output_type": "display_data"
    },
    {
     "data": {
      "text/plain": []
     },
     "execution_count": 12,
     "metadata": {},
     "output_type": "execute_result"
    },
    {
     "name": "stdout",
     "output_type": "stream",
     "text": [
      "Exception occurred while processing request: 'NoneType' object is not subscriptable\n",
      "Traceback (most recent call last):\n",
      "  File \"C:\\Users\\NAMRATA\\anaconda3\\lib\\site-packages\\dtale\\views.py\", line 114, in _handle_exceptions\n",
      "    return func(*args, **kwargs)\n",
      "  File \"C:\\Users\\NAMRATA\\anaconda3\\lib\\site-packages\\dtale\\views.py\", line 2923, in get_scatter\n",
      "    y_cols = [cols[1], idx_col]\n",
      "TypeError: 'NoneType' object is not subscriptable\n"
     ]
    },
    {
     "name": "stderr",
     "output_type": "stream",
     "text": [
      "2022-02-27 18:35:36,453 - ERROR    - Exception occurred while processing request: 'NoneType' object is not subscriptable\n",
      "Traceback (most recent call last):\n",
      "  File \"C:\\Users\\NAMRATA\\anaconda3\\lib\\site-packages\\dtale\\views.py\", line 114, in _handle_exceptions\n",
      "    return func(*args, **kwargs)\n",
      "  File \"C:\\Users\\NAMRATA\\anaconda3\\lib\\site-packages\\dtale\\views.py\", line 2923, in get_scatter\n",
      "    y_cols = [cols[1], idx_col]\n",
      "TypeError: 'NoneType' object is not subscriptable\n"
     ]
    }
   ],
   "source": [
    "import dtale\n",
    "dtale.show(df)"
   ]
  },
  {
   "cell_type": "code",
   "execution_count": null,
   "metadata": {},
   "outputs": [],
   "source": [
    "!pip install sweetviz"
   ]
  },
  {
   "cell_type": "code",
   "execution_count": 13,
   "metadata": {},
   "outputs": [],
   "source": [
    "import sweetviz as sv"
   ]
  },
  {
   "cell_type": "code",
   "execution_count": 16,
   "metadata": {},
   "outputs": [
    {
     "data": {
      "application/vnd.jupyter.widget-view+json": {
       "model_id": "b6d17dec53144fd884e075bb6853f8e8",
       "version_major": 2,
       "version_minor": 0
      },
      "text/plain": [
       "HBox(children=(HTML(value=''), FloatProgress(value=0.0, layout=Layout(flex='2'), max=8.0), HTML(value='')), la…"
      ]
     },
     "metadata": {},
     "output_type": "display_data"
    },
    {
     "name": "stdout",
     "output_type": "stream",
     "text": [
      "\n"
     ]
    }
   ],
   "source": [
    "report=sv.analyze(df)"
   ]
  },
  {
   "cell_type": "code",
   "execution_count": 21,
   "metadata": {},
   "outputs": [
    {
     "name": "stdout",
     "output_type": "stream",
     "text": [
      "Report newreport.html was generated! NOTEBOOK/COLAB USERS: the web browser MAY not pop up, regardless, the report IS saved in your notebook/colab files.\n"
     ]
    }
   ],
   "source": [
    "report.show_html('newreport.html')"
   ]
  },
  {
   "cell_type": "code",
   "execution_count": 23,
   "metadata": {},
   "outputs": [
    {
     "name": "stdout",
     "output_type": "stream",
     "text": [
      "Collecting dataprep\n",
      "  Downloading dataprep-0.4.2-py3-none-any.whl (3.7 MB)\n",
      "Collecting dask[array,dataframe,delayed]<2022.0,>=2021.11\n",
      "  Downloading dask-2021.12.0-py3-none-any.whl (1.0 MB)\n",
      "Collecting jsonpath-ng<2.0,>=1.5\n",
      "  Downloading jsonpath_ng-1.5.3-py3-none-any.whl (29 kB)\n",
      "Requirement already satisfied: ipywidgets<8.0,>=7.5 in c:\\users\\namrata\\anaconda3\\lib\\site-packages (from dataprep) (7.5.1)\n",
      "Requirement already satisfied: scipy<2,>=1 in c:\\users\\namrata\\anaconda3\\lib\\site-packages (from dataprep) (1.7.1)\n",
      "Collecting levenshtein<0.17,>=0.16\n",
      "  Downloading Levenshtein-0.16.0-cp38-cp38-win_amd64.whl (71 kB)\n",
      "Collecting aiohttp<4.0,>=3.6\n",
      "  Downloading aiohttp-3.8.1-cp38-cp38-win_amd64.whl (555 kB)\n",
      "Requirement already satisfied: pandas<2.0,>=1.1 in c:\\users\\namrata\\anaconda3\\lib\\site-packages (from dataprep) (1.1.3)\n",
      "Collecting nltk<4.0.0,>=3.6.7\n",
      "  Downloading nltk-3.7-py3-none-any.whl (1.5 MB)\n",
      "Collecting varname<0.9.0,>=0.8.1\n",
      "  Downloading varname-0.8.1-py3-none-any.whl (20 kB)\n",
      "Requirement already satisfied: wordcloud<2.0,>=1.8 in c:\\users\\namrata\\anaconda3\\lib\\site-packages (from dataprep) (1.8.1)\n",
      "Collecting python-crfsuite<0.10.0,>=0.9.7\n",
      "  Downloading python_crfsuite-0.9.7-cp38-cp38-win_amd64.whl (156 kB)\n",
      "Requirement already satisfied: bokeh<3,>=2 in c:\\users\\namrata\\anaconda3\\lib\\site-packages (from dataprep) (2.2.3)\n",
      "Requirement already satisfied: pydantic<2.0,>=1.6 in c:\\users\\namrata\\anaconda3\\lib\\site-packages (from dataprep) (1.8.2)\n",
      "Collecting python-stdnum<2.0,>=1.16\n",
      "  Downloading python_stdnum-1.17-py2.py3-none-any.whl (943 kB)\n",
      "Collecting flask<3,>=2\n",
      "  Downloading Flask-2.0.3-py3-none-any.whl (95 kB)\n",
      "Collecting flask_cors<4.0.0,>=3.0.10\n",
      "  Downloading Flask_Cors-3.0.10-py2.py3-none-any.whl (14 kB)\n",
      "Requirement already satisfied: tqdm<5.0,>=4.48 in c:\\users\\namrata\\anaconda3\\lib\\site-packages (from dataprep) (4.50.2)\n",
      "Collecting metaphone<0.7,>=0.6\n",
      "  Downloading Metaphone-0.6.tar.gz (14 kB)\n",
      "Collecting numpy<2.0,>=1.21\n",
      "  Downloading numpy-1.22.2-cp38-cp38-win_amd64.whl (14.7 MB)\n",
      "Collecting jinja2<4,>=3\n",
      "  Downloading Jinja2-3.0.3-py3-none-any.whl (133 kB)\n",
      "Collecting regex<2022.0.0,>=2021.8.3\n",
      "  Downloading regex-2021.11.10-cp38-cp38-win_amd64.whl (273 kB)\n",
      "Requirement already satisfied: cloudpickle>=1.1.1 in c:\\users\\namrata\\anaconda3\\lib\\site-packages (from dask[array,dataframe,delayed]<2022.0,>=2021.11->dataprep) (1.6.0)\n",
      "Requirement already satisfied: fsspec>=0.6.0 in c:\\users\\namrata\\anaconda3\\lib\\site-packages (from dask[array,dataframe,delayed]<2022.0,>=2021.11->dataprep) (0.8.3)\n",
      "Requirement already satisfied: toolz>=0.8.2 in c:\\users\\namrata\\anaconda3\\lib\\site-packages (from dask[array,dataframe,delayed]<2022.0,>=2021.11->dataprep) (0.11.1)\n",
      "Requirement already satisfied: partd>=0.3.10 in c:\\users\\namrata\\anaconda3\\lib\\site-packages (from dask[array,dataframe,delayed]<2022.0,>=2021.11->dataprep) (1.1.0)\n",
      "Requirement already satisfied: pyyaml in c:\\users\\namrata\\anaconda3\\lib\\site-packages (from dask[array,dataframe,delayed]<2022.0,>=2021.11->dataprep) (5.3.1)\n",
      "Requirement already satisfied: packaging>=20.0 in c:\\users\\namrata\\anaconda3\\lib\\site-packages (from dask[array,dataframe,delayed]<2022.0,>=2021.11->dataprep) (20.4)\n",
      "Requirement already satisfied: six in c:\\users\\namrata\\anaconda3\\lib\\site-packages (from jsonpath-ng<2.0,>=1.5->dataprep) (1.15.0)\n",
      "Requirement already satisfied: ply in c:\\users\\namrata\\anaconda3\\lib\\site-packages (from jsonpath-ng<2.0,>=1.5->dataprep) (3.11)\n",
      "Requirement already satisfied: decorator in c:\\users\\namrata\\anaconda3\\lib\\site-packages (from jsonpath-ng<2.0,>=1.5->dataprep) (4.4.2)\n",
      "Requirement already satisfied: nbformat>=4.2.0 in c:\\users\\namrata\\anaconda3\\lib\\site-packages (from ipywidgets<8.0,>=7.5->dataprep) (5.0.8)\n",
      "Requirement already satisfied: widgetsnbextension~=3.5.0 in c:\\users\\namrata\\anaconda3\\lib\\site-packages (from ipywidgets<8.0,>=7.5->dataprep) (3.5.1)\n",
      "Requirement already satisfied: ipykernel>=4.5.1 in c:\\users\\namrata\\anaconda3\\lib\\site-packages (from ipywidgets<8.0,>=7.5->dataprep) (5.3.4)\n",
      "Requirement already satisfied: traitlets>=4.3.1 in c:\\users\\namrata\\anaconda3\\lib\\site-packages (from ipywidgets<8.0,>=7.5->dataprep) (5.0.5)\n",
      "Requirement already satisfied: ipython>=4.0.0; python_version >= \"3.3\" in c:\\users\\namrata\\anaconda3\\lib\\site-packages (from ipywidgets<8.0,>=7.5->dataprep) (7.19.0)\n",
      "Collecting rapidfuzz<1.9,>=1.8.2\n",
      "  Downloading rapidfuzz-1.8.3-cp38-cp38-win_amd64.whl (545 kB)\n",
      "Requirement already satisfied: attrs>=17.3.0 in c:\\users\\namrata\\anaconda3\\lib\\site-packages (from aiohttp<4.0,>=3.6->dataprep) (20.3.0)\n",
      "Collecting frozenlist>=1.1.1\n",
      "  Downloading frozenlist-1.3.0-cp38-cp38-win_amd64.whl (33 kB)\n",
      "Collecting yarl<2.0,>=1.0\n",
      "  Downloading yarl-1.7.2-cp38-cp38-win_amd64.whl (122 kB)\n",
      "Collecting multidict<7.0,>=4.5\n",
      "  Downloading multidict-6.0.2-cp38-cp38-win_amd64.whl (28 kB)\n",
      "Collecting async-timeout<5.0,>=4.0.0a3\n",
      "  Downloading async_timeout-4.0.2-py3-none-any.whl (5.8 kB)\n",
      "Collecting charset-normalizer<3.0,>=2.0\n",
      "  Downloading charset_normalizer-2.0.12-py3-none-any.whl (39 kB)\n",
      "Collecting aiosignal>=1.1.2\n",
      "  Downloading aiosignal-1.2.0-py3-none-any.whl (8.2 kB)\n",
      "Requirement already satisfied: python-dateutil>=2.7.3 in c:\\users\\namrata\\anaconda3\\lib\\site-packages (from pandas<2.0,>=1.1->dataprep) (2.8.1)\n",
      "Requirement already satisfied: pytz>=2017.2 in c:\\users\\namrata\\anaconda3\\lib\\site-packages (from pandas<2.0,>=1.1->dataprep) (2020.1)\n",
      "Requirement already satisfied: joblib in c:\\users\\namrata\\anaconda3\\lib\\site-packages (from nltk<4.0.0,>=3.6.7->dataprep) (0.17.0)\n",
      "Requirement already satisfied: click in c:\\users\\namrata\\anaconda3\\lib\\site-packages (from nltk<4.0.0,>=3.6.7->dataprep) (7.1.2)\n",
      "Collecting executing\n",
      "  Downloading executing-0.8.2-py2.py3-none-any.whl (16 kB)\n",
      "Collecting pure_eval<1.0.0\n",
      "  Downloading pure_eval-0.2.2-py3-none-any.whl (11 kB)\n",
      "Collecting asttokens<3.0.0,>=2.0.0\n",
      "  Downloading asttokens-2.0.5-py2.py3-none-any.whl (20 kB)\n",
      "Requirement already satisfied: matplotlib in c:\\users\\namrata\\anaconda3\\lib\\site-packages (from wordcloud<2.0,>=1.8->dataprep) (3.3.2)\n",
      "Requirement already satisfied: pillow in c:\\users\\namrata\\anaconda3\\lib\\site-packages (from wordcloud<2.0,>=1.8->dataprep) (8.0.1)\n",
      "Requirement already satisfied: tornado>=5.1 in c:\\users\\namrata\\anaconda3\\lib\\site-packages (from bokeh<3,>=2->dataprep) (6.0.4)\n",
      "Requirement already satisfied: typing-extensions>=3.7.4 in c:\\users\\namrata\\anaconda3\\lib\\site-packages (from bokeh<3,>=2->dataprep) (3.7.4.3)\n",
      "Collecting itsdangerous>=2.0\n",
      "  Downloading itsdangerous-2.1.0-py3-none-any.whl (15 kB)\n",
      "Collecting Werkzeug>=2.0\n",
      "  Downloading Werkzeug-2.0.3-py3-none-any.whl (289 kB)\n",
      "Collecting MarkupSafe>=2.0\n",
      "  Downloading MarkupSafe-2.1.0-cp38-cp38-win_amd64.whl (16 kB)\n",
      "Requirement already satisfied: locket in c:\\users\\namrata\\anaconda3\\lib\\site-packages (from partd>=0.3.10->dask[array,dataframe,delayed]<2022.0,>=2021.11->dataprep) (0.2.0)\n",
      "Requirement already satisfied: pyparsing>=2.0.2 in c:\\users\\namrata\\anaconda3\\lib\\site-packages (from packaging>=20.0->dask[array,dataframe,delayed]<2022.0,>=2021.11->dataprep) (2.4.7)\n",
      "Requirement already satisfied: jsonschema!=2.5.0,>=2.4 in c:\\users\\namrata\\anaconda3\\lib\\site-packages (from nbformat>=4.2.0->ipywidgets<8.0,>=7.5->dataprep) (3.2.0)\n",
      "Requirement already satisfied: jupyter-core in c:\\users\\namrata\\anaconda3\\lib\\site-packages (from nbformat>=4.2.0->ipywidgets<8.0,>=7.5->dataprep) (4.6.3)\n",
      "Requirement already satisfied: ipython-genutils in c:\\users\\namrata\\anaconda3\\lib\\site-packages (from nbformat>=4.2.0->ipywidgets<8.0,>=7.5->dataprep) (0.2.0)\n",
      "Requirement already satisfied: notebook>=4.4.1 in c:\\users\\namrata\\anaconda3\\lib\\site-packages (from widgetsnbextension~=3.5.0->ipywidgets<8.0,>=7.5->dataprep) (6.1.4)\n",
      "Requirement already satisfied: jupyter-client in c:\\users\\namrata\\anaconda3\\lib\\site-packages (from ipykernel>=4.5.1->ipywidgets<8.0,>=7.5->dataprep) (6.1.7)\n",
      "Requirement already satisfied: colorama; sys_platform == \"win32\" in c:\\users\\namrata\\anaconda3\\lib\\site-packages (from ipython>=4.0.0; python_version >= \"3.3\"->ipywidgets<8.0,>=7.5->dataprep) (0.4.4)\n",
      "Requirement already satisfied: setuptools>=18.5 in c:\\users\\namrata\\anaconda3\\lib\\site-packages (from ipython>=4.0.0; python_version >= \"3.3\"->ipywidgets<8.0,>=7.5->dataprep) (50.3.1.post20201107)\n",
      "Requirement already satisfied: jedi>=0.10 in c:\\users\\namrata\\anaconda3\\lib\\site-packages (from ipython>=4.0.0; python_version >= \"3.3\"->ipywidgets<8.0,>=7.5->dataprep) (0.17.1)\n",
      "Requirement already satisfied: pickleshare in c:\\users\\namrata\\anaconda3\\lib\\site-packages (from ipython>=4.0.0; python_version >= \"3.3\"->ipywidgets<8.0,>=7.5->dataprep) (0.7.5)\n",
      "Requirement already satisfied: prompt-toolkit!=3.0.0,!=3.0.1,<3.1.0,>=2.0.0 in c:\\users\\namrata\\anaconda3\\lib\\site-packages (from ipython>=4.0.0; python_version >= \"3.3\"->ipywidgets<8.0,>=7.5->dataprep) (3.0.8)\n",
      "Requirement already satisfied: pygments in c:\\users\\namrata\\anaconda3\\lib\\site-packages (from ipython>=4.0.0; python_version >= \"3.3\"->ipywidgets<8.0,>=7.5->dataprep) (2.7.2)\n",
      "Requirement already satisfied: backcall in c:\\users\\namrata\\anaconda3\\lib\\site-packages (from ipython>=4.0.0; python_version >= \"3.3\"->ipywidgets<8.0,>=7.5->dataprep) (0.2.0)\n",
      "Requirement already satisfied: idna>=2.0 in c:\\users\\namrata\\anaconda3\\lib\\site-packages (from yarl<2.0,>=1.0->aiohttp<4.0,>=3.6->dataprep) (2.10)\n",
      "Requirement already satisfied: certifi>=2020.06.20 in c:\\users\\namrata\\anaconda3\\lib\\site-packages (from matplotlib->wordcloud<2.0,>=1.8->dataprep) (2020.6.20)\n",
      "Requirement already satisfied: kiwisolver>=1.0.1 in c:\\users\\namrata\\anaconda3\\lib\\site-packages (from matplotlib->wordcloud<2.0,>=1.8->dataprep) (1.3.0)\n",
      "Requirement already satisfied: cycler>=0.10 in c:\\users\\namrata\\anaconda3\\lib\\site-packages (from matplotlib->wordcloud<2.0,>=1.8->dataprep) (0.10.0)\n",
      "Requirement already satisfied: pyrsistent>=0.14.0 in c:\\users\\namrata\\anaconda3\\lib\\site-packages (from jsonschema!=2.5.0,>=2.4->nbformat>=4.2.0->ipywidgets<8.0,>=7.5->dataprep) (0.17.3)\n",
      "Requirement already satisfied: pywin32>=1.0; sys_platform == \"win32\" in c:\\users\\namrata\\anaconda3\\lib\\site-packages (from jupyter-core->nbformat>=4.2.0->ipywidgets<8.0,>=7.5->dataprep) (227)\n",
      "Requirement already satisfied: nbconvert in c:\\users\\namrata\\anaconda3\\lib\\site-packages (from notebook>=4.4.1->widgetsnbextension~=3.5.0->ipywidgets<8.0,>=7.5->dataprep) (6.0.7)\n",
      "Requirement already satisfied: terminado>=0.8.3 in c:\\users\\namrata\\anaconda3\\lib\\site-packages (from notebook>=4.4.1->widgetsnbextension~=3.5.0->ipywidgets<8.0,>=7.5->dataprep) (0.9.1)\n",
      "Requirement already satisfied: Send2Trash in c:\\users\\namrata\\anaconda3\\lib\\site-packages (from notebook>=4.4.1->widgetsnbextension~=3.5.0->ipywidgets<8.0,>=7.5->dataprep) (1.5.0)\n",
      "Requirement already satisfied: pyzmq>=17 in c:\\users\\namrata\\anaconda3\\lib\\site-packages (from notebook>=4.4.1->widgetsnbextension~=3.5.0->ipywidgets<8.0,>=7.5->dataprep) (19.0.2)\n",
      "Requirement already satisfied: argon2-cffi in c:\\users\\namrata\\anaconda3\\lib\\site-packages (from notebook>=4.4.1->widgetsnbextension~=3.5.0->ipywidgets<8.0,>=7.5->dataprep) (20.1.0)\n",
      "Requirement already satisfied: prometheus-client in c:\\users\\namrata\\anaconda3\\lib\\site-packages (from notebook>=4.4.1->widgetsnbextension~=3.5.0->ipywidgets<8.0,>=7.5->dataprep) (0.8.0)\n",
      "Requirement already satisfied: parso<0.8.0,>=0.7.0 in c:\\users\\namrata\\anaconda3\\lib\\site-packages (from jedi>=0.10->ipython>=4.0.0; python_version >= \"3.3\"->ipywidgets<8.0,>=7.5->dataprep) (0.7.0)\n",
      "Requirement already satisfied: wcwidth in c:\\users\\namrata\\anaconda3\\lib\\site-packages (from prompt-toolkit!=3.0.0,!=3.0.1,<3.1.0,>=2.0.0->ipython>=4.0.0; python_version >= \"3.3\"->ipywidgets<8.0,>=7.5->dataprep) (0.2.5)\n",
      "Requirement already satisfied: pandocfilters>=1.4.1 in c:\\users\\namrata\\anaconda3\\lib\\site-packages (from nbconvert->notebook>=4.4.1->widgetsnbextension~=3.5.0->ipywidgets<8.0,>=7.5->dataprep) (1.4.3)\n",
      "Requirement already satisfied: jupyterlab-pygments in c:\\users\\namrata\\anaconda3\\lib\\site-packages (from nbconvert->notebook>=4.4.1->widgetsnbextension~=3.5.0->ipywidgets<8.0,>=7.5->dataprep) (0.1.2)\n",
      "Requirement already satisfied: testpath in c:\\users\\namrata\\anaconda3\\lib\\site-packages (from nbconvert->notebook>=4.4.1->widgetsnbextension~=3.5.0->ipywidgets<8.0,>=7.5->dataprep) (0.4.4)\n",
      "Requirement already satisfied: nbclient<0.6.0,>=0.5.0 in c:\\users\\namrata\\anaconda3\\lib\\site-packages (from nbconvert->notebook>=4.4.1->widgetsnbextension~=3.5.0->ipywidgets<8.0,>=7.5->dataprep) (0.5.1)\n",
      "Requirement already satisfied: mistune<2,>=0.8.1 in c:\\users\\namrata\\anaconda3\\lib\\site-packages (from nbconvert->notebook>=4.4.1->widgetsnbextension~=3.5.0->ipywidgets<8.0,>=7.5->dataprep) (0.8.4)\n",
      "Requirement already satisfied: bleach in c:\\users\\namrata\\anaconda3\\lib\\site-packages (from nbconvert->notebook>=4.4.1->widgetsnbextension~=3.5.0->ipywidgets<8.0,>=7.5->dataprep) (3.2.1)\n",
      "Requirement already satisfied: entrypoints>=0.2.2 in c:\\users\\namrata\\anaconda3\\lib\\site-packages (from nbconvert->notebook>=4.4.1->widgetsnbextension~=3.5.0->ipywidgets<8.0,>=7.5->dataprep) (0.3)\n",
      "Requirement already satisfied: defusedxml in c:\\users\\namrata\\anaconda3\\lib\\site-packages (from nbconvert->notebook>=4.4.1->widgetsnbextension~=3.5.0->ipywidgets<8.0,>=7.5->dataprep) (0.6.0)\n",
      "Requirement already satisfied: pywinpty>=0.5 in c:\\users\\namrata\\anaconda3\\lib\\site-packages (from terminado>=0.8.3->notebook>=4.4.1->widgetsnbextension~=3.5.0->ipywidgets<8.0,>=7.5->dataprep) (0.5.7)\n",
      "Requirement already satisfied: cffi>=1.0.0 in c:\\users\\namrata\\anaconda3\\lib\\site-packages (from argon2-cffi->notebook>=4.4.1->widgetsnbextension~=3.5.0->ipywidgets<8.0,>=7.5->dataprep) (1.14.3)\n",
      "Requirement already satisfied: nest-asyncio in c:\\users\\namrata\\anaconda3\\lib\\site-packages (from nbclient<0.6.0,>=0.5.0->nbconvert->notebook>=4.4.1->widgetsnbextension~=3.5.0->ipywidgets<8.0,>=7.5->dataprep) (1.4.2)\n",
      "Requirement already satisfied: async-generator in c:\\users\\namrata\\anaconda3\\lib\\site-packages (from nbclient<0.6.0,>=0.5.0->nbconvert->notebook>=4.4.1->widgetsnbextension~=3.5.0->ipywidgets<8.0,>=7.5->dataprep) (1.10)\n",
      "Requirement already satisfied: webencodings in c:\\users\\namrata\\anaconda3\\lib\\site-packages (from bleach->nbconvert->notebook>=4.4.1->widgetsnbextension~=3.5.0->ipywidgets<8.0,>=7.5->dataprep) (0.5.1)\n",
      "Requirement already satisfied: pycparser in c:\\users\\namrata\\anaconda3\\lib\\site-packages (from cffi>=1.0.0->argon2-cffi->notebook>=4.4.1->widgetsnbextension~=3.5.0->ipywidgets<8.0,>=7.5->dataprep) (2.20)\n",
      "Building wheels for collected packages: metaphone\n",
      "  Building wheel for metaphone (setup.py): started\n",
      "  Building wheel for metaphone (setup.py): finished with status 'done'\n",
      "  Created wheel for metaphone: filename=Metaphone-0.6-py3-none-any.whl size=13909 sha256=4ce71f9080d134c273747e525018aa9a6691849352ab50f59af7ceea7af2a278\n",
      "  Stored in directory: c:\\users\\namrata\\appdata\\local\\pip\\cache\\wheels\\ea\\4e\\3b\\0634f08a7980461ad630fa4147cbd25913b008b4a02992ba66\n",
      "Successfully built metaphone\n",
      "Installing collected packages: numpy, dask, jsonpath-ng, rapidfuzz, levenshtein, frozenlist, multidict, yarl, async-timeout, charset-normalizer, aiosignal, aiohttp, regex, nltk, executing, pure-eval, asttokens, varname, python-crfsuite, python-stdnum, MarkupSafe, jinja2, itsdangerous, Werkzeug, flask, flask-cors, metaphone, dataprep\n",
      "  Attempting uninstall: numpy\n",
      "    Found existing installation: numpy 1.19.2\n",
      "    Uninstalling numpy-1.19.2:\n",
      "      Successfully uninstalled numpy-1.19.2\n",
      "  Attempting uninstall: dask\n",
      "    Found existing installation: dask 2.30.0\n",
      "    Uninstalling dask-2.30.0:\n",
      "      Successfully uninstalled dask-2.30.0\n",
      "  Attempting uninstall: regex\n",
      "    Found existing installation: regex 2020.10.15\n",
      "    Uninstalling regex-2020.10.15:\n",
      "      Successfully uninstalled regex-2020.10.15\n",
      "  Attempting uninstall: nltk\n",
      "    Found existing installation: nltk 3.5\n",
      "    Uninstalling nltk-3.5:\n",
      "      Successfully uninstalled nltk-3.5\n",
      "  Attempting uninstall: MarkupSafe\n",
      "    Found existing installation: MarkupSafe 1.1.1\n",
      "    Uninstalling MarkupSafe-1.1.1:\n",
      "      Successfully uninstalled MarkupSafe-1.1.1\n",
      "  Attempting uninstall: jinja2\n",
      "    Found existing installation: Jinja2 2.11.2\n",
      "    Uninstalling Jinja2-2.11.2:\n",
      "      Successfully uninstalled Jinja2-2.11.2\n",
      "  Attempting uninstall: itsdangerous\n",
      "    Found existing installation: itsdangerous 1.1.0\n",
      "    Uninstalling itsdangerous-1.1.0:\n",
      "      Successfully uninstalled itsdangerous-1.1.0\n",
      "  Attempting uninstall: Werkzeug\n",
      "    Found existing installation: Werkzeug 1.0.1\n",
      "    Uninstalling Werkzeug-1.0.1:\n",
      "      Successfully uninstalled Werkzeug-1.0.1\n",
      "  Attempting uninstall: flask\n",
      "    Found existing installation: Flask 1.1.2\n",
      "    Uninstalling Flask-1.1.2:\n",
      "      Successfully uninstalled Flask-1.1.2\n",
      "Successfully installed MarkupSafe-2.1.0 Werkzeug-2.0.3 aiohttp-3.8.1 aiosignal-1.2.0 asttokens-2.0.5 async-timeout-4.0.2 charset-normalizer-2.0.12 dask-2021.12.0 dataprep-0.4.2 executing-0.8.2 flask-2.0.3 flask-cors-3.0.10 frozenlist-1.3.0 itsdangerous-2.1.0 jinja2-3.0.3 jsonpath-ng-1.5.3 levenshtein-0.16.0 metaphone-0.6 multidict-6.0.2 nltk-3.7 numpy-1.22.2 pure-eval-0.2.2 python-crfsuite-0.9.7 python-stdnum-1.17 rapidfuzz-1.8.3 regex-2021.11.10 varname-0.8.1 yarl-1.7.2\n"
     ]
    },
    {
     "name": "stderr",
     "output_type": "stream",
     "text": [
      "ERROR: After October 2020 you may experience errors when installing or updating packages. This is because pip will change the way that it resolves dependency conflicts.\n",
      "\n",
      "We recommend you use --use-feature=2020-resolver to test your packages with the new resolver before it becomes the default.\n",
      "\n",
      "tensorflow 2.5.0 requires numpy~=1.19.2, but you'll have numpy 1.22.2 which is incompatible.\n"
     ]
    }
   ],
   "source": [
    "#dataprip\n",
    "!pip install dataprep"
   ]
  },
  {
   "cell_type": "code",
   "execution_count": 26,
   "metadata": {
    "collapsed": true
   },
   "outputs": [
    {
     "ename": "ImportError",
     "evalue": "Dask dataframe requirements are not installed.\n\nPlease either conda or pip install as follows:\n\n  conda install dask                     # either conda install\n  python -m pip install \"dask[dataframe]\" --upgrade  # or python -m pip install",
     "output_type": "error",
     "traceback": [
      "\u001b[1;31m---------------------------------------------------------------------------\u001b[0m",
      "\u001b[1;31mImportError\u001b[0m                               Traceback (most recent call last)",
      "\u001b[1;32m~\\anaconda3\\lib\\site-packages\\dask\\dataframe\\__init__.py\u001b[0m in \u001b[0;36m<module>\u001b[1;34m\u001b[0m\n\u001b[0;32m      2\u001b[0m     \u001b[1;32mfrom\u001b[0m \u001b[1;33m.\u001b[0m\u001b[1;33m.\u001b[0m\u001b[0mbase\u001b[0m \u001b[1;32mimport\u001b[0m \u001b[0mcompute\u001b[0m\u001b[1;33m\u001b[0m\u001b[1;33m\u001b[0m\u001b[0m\n\u001b[1;32m----> 3\u001b[1;33m     \u001b[1;32mfrom\u001b[0m \u001b[1;33m.\u001b[0m \u001b[1;32mimport\u001b[0m \u001b[0mbackends\u001b[0m\u001b[1;33m,\u001b[0m \u001b[0mdispatch\u001b[0m\u001b[1;33m,\u001b[0m \u001b[0mrolling\u001b[0m\u001b[1;33m\u001b[0m\u001b[1;33m\u001b[0m\u001b[0m\n\u001b[0m\u001b[0;32m      4\u001b[0m     from .core import (\n",
      "\u001b[1;32m~\\anaconda3\\lib\\site-packages\\dask\\dataframe\\backends.py\u001b[0m in \u001b[0;36m<module>\u001b[1;34m\u001b[0m\n\u001b[0;32m     16\u001b[0m \u001b[1;32mfrom\u001b[0m \u001b[0mdask\u001b[0m\u001b[1;33m.\u001b[0m\u001b[0marray\u001b[0m\u001b[1;33m.\u001b[0m\u001b[0mpercentile\u001b[0m \u001b[1;32mimport\u001b[0m \u001b[0m_percentile\u001b[0m\u001b[1;33m\u001b[0m\u001b[1;33m\u001b[0m\u001b[0m\n\u001b[1;32m---> 17\u001b[1;33m \u001b[1;32mfrom\u001b[0m \u001b[0mdask\u001b[0m\u001b[1;33m.\u001b[0m\u001b[0msizeof\u001b[0m \u001b[1;32mimport\u001b[0m \u001b[0mSimpleSizeof\u001b[0m\u001b[1;33m,\u001b[0m \u001b[0msizeof\u001b[0m\u001b[1;33m\u001b[0m\u001b[1;33m\u001b[0m\u001b[0m\n\u001b[0m\u001b[0;32m     18\u001b[0m \u001b[1;33m\u001b[0m\u001b[0m\n",
      "\u001b[1;31mImportError\u001b[0m: cannot import name 'SimpleSizeof' from 'dask.sizeof' (C:\\Users\\NAMRATA\\anaconda3\\lib\\site-packages\\dask\\sizeof.py)",
      "\nThe above exception was the direct cause of the following exception:\n",
      "\u001b[1;31mImportError\u001b[0m                               Traceback (most recent call last)",
      "\u001b[1;32m<ipython-input-26-db62224f8a79>\u001b[0m in \u001b[0;36m<module>\u001b[1;34m\u001b[0m\n\u001b[1;32m----> 1\u001b[1;33m \u001b[1;32mfrom\u001b[0m \u001b[0mdataprep\u001b[0m\u001b[1;33m.\u001b[0m\u001b[0meda\u001b[0m \u001b[1;32mimport\u001b[0m \u001b[0mcreate_report\u001b[0m\u001b[1;33m\u001b[0m\u001b[1;33m\u001b[0m\u001b[0m\n\u001b[0m",
      "\u001b[1;32m~\\anaconda3\\lib\\site-packages\\dataprep\\eda\\__init__.py\u001b[0m in \u001b[0;36m<module>\u001b[1;34m\u001b[0m\n\u001b[0;32m      6\u001b[0m \u001b[1;33m\u001b[0m\u001b[0m\n\u001b[0;32m      7\u001b[0m \u001b[1;32mfrom\u001b[0m \u001b[1;33m.\u001b[0m\u001b[1;33m.\u001b[0m\u001b[0mutils\u001b[0m \u001b[1;32mimport\u001b[0m \u001b[0mis_notebook\u001b[0m\u001b[1;33m\u001b[0m\u001b[1;33m\u001b[0m\u001b[0m\n\u001b[1;32m----> 8\u001b[1;33m \u001b[1;32mfrom\u001b[0m \u001b[1;33m.\u001b[0m\u001b[0mcorrelation\u001b[0m \u001b[1;32mimport\u001b[0m \u001b[0mcompute_correlation\u001b[0m\u001b[1;33m,\u001b[0m \u001b[0mplot_correlation\u001b[0m\u001b[1;33m,\u001b[0m \u001b[0mrender_correlation\u001b[0m\u001b[1;33m\u001b[0m\u001b[1;33m\u001b[0m\u001b[0m\n\u001b[0m\u001b[0;32m      9\u001b[0m \u001b[1;32mfrom\u001b[0m \u001b[1;33m.\u001b[0m\u001b[0mcreate_report\u001b[0m \u001b[1;32mimport\u001b[0m \u001b[0mcreate_report\u001b[0m\u001b[1;33m\u001b[0m\u001b[1;33m\u001b[0m\u001b[0m\n\u001b[0;32m     10\u001b[0m \u001b[1;32mfrom\u001b[0m \u001b[1;33m.\u001b[0m\u001b[0mcreate_diff_report\u001b[0m \u001b[1;32mimport\u001b[0m \u001b[0mcreate_diff_report\u001b[0m\u001b[1;33m\u001b[0m\u001b[1;33m\u001b[0m\u001b[0m\n",
      "\u001b[1;32m~\\anaconda3\\lib\\site-packages\\dataprep\\eda\\correlation\\__init__.py\u001b[0m in \u001b[0;36m<module>\u001b[1;34m\u001b[0m\n\u001b[0;32m      5\u001b[0m \u001b[1;32mfrom\u001b[0m \u001b[0mtyping\u001b[0m \u001b[1;32mimport\u001b[0m \u001b[0mAny\u001b[0m\u001b[1;33m,\u001b[0m \u001b[0mDict\u001b[0m\u001b[1;33m,\u001b[0m \u001b[0mList\u001b[0m\u001b[1;33m,\u001b[0m \u001b[0mOptional\u001b[0m\u001b[1;33m,\u001b[0m \u001b[0mTuple\u001b[0m\u001b[1;33m,\u001b[0m \u001b[0mUnion\u001b[0m\u001b[1;33m\u001b[0m\u001b[1;33m\u001b[0m\u001b[0m\n\u001b[0;32m      6\u001b[0m \u001b[1;33m\u001b[0m\u001b[0m\n\u001b[1;32m----> 7\u001b[1;33m \u001b[1;32mimport\u001b[0m \u001b[0mdask\u001b[0m\u001b[1;33m.\u001b[0m\u001b[0mdataframe\u001b[0m \u001b[1;32mas\u001b[0m \u001b[0mdd\u001b[0m\u001b[1;33m\u001b[0m\u001b[1;33m\u001b[0m\u001b[0m\n\u001b[0m\u001b[0;32m      8\u001b[0m \u001b[1;32mimport\u001b[0m \u001b[0mpandas\u001b[0m \u001b[1;32mas\u001b[0m \u001b[0mpd\u001b[0m\u001b[1;33m\u001b[0m\u001b[1;33m\u001b[0m\u001b[0m\n\u001b[0;32m      9\u001b[0m \u001b[1;33m\u001b[0m\u001b[0m\n",
      "\u001b[1;32m~\\anaconda3\\lib\\site-packages\\dask\\dataframe\\__init__.py\u001b[0m in \u001b[0;36m<module>\u001b[1;34m\u001b[0m\n\u001b[0;32m     58\u001b[0m         \u001b[1;34m'  python -m pip install \"dask[dataframe]\" --upgrade  # or python -m pip install'\u001b[0m\u001b[1;33m\u001b[0m\u001b[1;33m\u001b[0m\u001b[0m\n\u001b[0;32m     59\u001b[0m     )\n\u001b[1;32m---> 60\u001b[1;33m     \u001b[1;32mraise\u001b[0m \u001b[0mImportError\u001b[0m\u001b[1;33m(\u001b[0m\u001b[0mmsg\u001b[0m\u001b[1;33m)\u001b[0m \u001b[1;32mfrom\u001b[0m \u001b[0me\u001b[0m\u001b[1;33m\u001b[0m\u001b[1;33m\u001b[0m\u001b[0m\n\u001b[0m",
      "\u001b[1;31mImportError\u001b[0m: Dask dataframe requirements are not installed.\n\nPlease either conda or pip install as follows:\n\n  conda install dask                     # either conda install\n  python -m pip install \"dask[dataframe]\" --upgrade  # or python -m pip install"
     ]
    }
   ],
   "source": [
    "from dataprep.eda import create_report"
   ]
  },
  {
   "cell_type": "code",
   "execution_count": 27,
   "metadata": {
    "collapsed": true
   },
   "outputs": [
    {
     "ename": "NameError",
     "evalue": "name 'create_report' is not defined",
     "output_type": "error",
     "traceback": [
      "\u001b[1;31m---------------------------------------------------------------------------\u001b[0m",
      "\u001b[1;31mNameError\u001b[0m                                 Traceback (most recent call last)",
      "\u001b[1;32m<ipython-input-27-463fb2fdfb17>\u001b[0m in \u001b[0;36m<module>\u001b[1;34m\u001b[0m\n\u001b[1;32m----> 1\u001b[1;33m \u001b[0mcreate_report\u001b[0m\u001b[1;33m(\u001b[0m\u001b[0mdf\u001b[0m\u001b[1;33m)\u001b[0m\u001b[1;33m\u001b[0m\u001b[1;33m\u001b[0m\u001b[0m\n\u001b[0m",
      "\u001b[1;31mNameError\u001b[0m: name 'create_report' is not defined"
     ]
    }
   ],
   "source": [
    "create_report(df)"
   ]
  },
  {
   "cell_type": "code",
   "execution_count": 28,
   "metadata": {},
   "outputs": [
    {
     "name": "stdout",
     "output_type": "stream",
     "text": [
      "Collecting lux\n",
      "  Downloading lux-0.8.2-py3-none-any.whl (354 kB)\n",
      "Collecting pulsar-odm\n",
      "  Downloading pulsar-odm-0.7.0.tar.gz (40 kB)\n",
      "Requirement already satisfied: pytz in c:\\users\\namrata\\anaconda3\\lib\\site-packages (from lux) (2020.1)\n",
      "Requirement already satisfied: greenlet in c:\\users\\namrata\\anaconda3\\lib\\site-packages (from lux) (0.4.17)\n",
      "Requirement already satisfied: jinja2 in c:\\users\\namrata\\anaconda3\\lib\\site-packages (from lux) (3.0.3)\n",
      "Requirement already satisfied: python-dateutil in c:\\users\\namrata\\anaconda3\\lib\\site-packages (from lux) (2.8.1)\n",
      "Collecting pyjwt\n",
      "  Downloading PyJWT-2.3.0-py3-none-any.whl (16 kB)\n",
      "Requirement already satisfied: sqlalchemy in c:\\users\\namrata\\anaconda3\\lib\\site-packages (from pulsar-odm->lux) (1.3.20)\n",
      "Collecting psycopg2\n",
      "  Downloading psycopg2-2.9.3-cp38-cp38-win_amd64.whl (1.1 MB)\n",
      "Collecting pulsar\n",
      "  Using cached pulsar-2.0.2-py3-none-any.whl (280 kB)\n",
      "Requirement already satisfied: MarkupSafe>=2.0 in c:\\users\\namrata\\anaconda3\\lib\\site-packages (from jinja2->lux) (2.1.0)\n",
      "Requirement already satisfied: six>=1.5 in c:\\users\\namrata\\anaconda3\\lib\\site-packages (from python-dateutil->lux) (1.15.0)\n",
      "Requirement already satisfied: multidict in c:\\users\\namrata\\anaconda3\\lib\\site-packages (from pulsar->pulsar-odm->lux) (6.0.2)\n",
      "Building wheels for collected packages: pulsar-odm\n",
      "  Building wheel for pulsar-odm (setup.py): started\n",
      "  Building wheel for pulsar-odm (setup.py): finished with status 'done'\n",
      "  Created wheel for pulsar-odm: filename=pulsar_odm-0.7.0-py3-none-any.whl size=16991 sha256=527ccdf7b7c345f51dde316ee1a7595afc8190738201d5a3e0d4a7ac42fc4848\n",
      "  Stored in directory: c:\\users\\namrata\\appdata\\local\\pip\\cache\\wheels\\fb\\c0\\69\\16cc3145b3071d6715799e1f34727978b9118b383400afdbb8\n",
      "Successfully built pulsar-odm\n",
      "Installing collected packages: psycopg2, pulsar, pulsar-odm, pyjwt, lux\n",
      "Successfully installed lux-0.8.2 psycopg2-2.9.3 pulsar-2.0.2 pulsar-odm-0.7.0 pyjwt-2.3.0\n"
     ]
    }
   ],
   "source": [
    "!pip install lux"
   ]
  },
  {
   "cell_type": "code",
   "execution_count": 29,
   "metadata": {},
   "outputs": [],
   "source": [
    "import lux\n",
    "lux.logger=True"
   ]
  },
  {
   "cell_type": "code",
   "execution_count": 30,
   "metadata": {},
   "outputs": [
    {
     "name": "stdout",
     "output_type": "stream",
     "text": [
      "Collecting pandas_visual_analysis\n",
      "  Downloading pandas_visual_analysis-0.0.4-py3-none-any.whl (34 kB)\n",
      "Requirement already satisfied: setuptools>=49.2.0 in c:\\users\\namrata\\anaconda3\\lib\\site-packages (from pandas_visual_analysis) (50.3.1.post20201107)\n",
      "Requirement already satisfied: ipywidgets>=7.5.1 in c:\\users\\namrata\\anaconda3\\lib\\site-packages (from pandas_visual_analysis) (7.5.1)\n",
      "Requirement already satisfied: plotly>=4.10.0 in c:\\users\\namrata\\anaconda3\\lib\\site-packages (from pandas_visual_analysis) (5.3.1)\n",
      "Requirement already satisfied: blinker>=1.4 in c:\\users\\namrata\\anaconda3\\lib\\site-packages (from pandas_visual_analysis) (1.4)\n",
      "Requirement already satisfied: numpy>=1.19.1 in c:\\users\\namrata\\anaconda3\\lib\\site-packages (from pandas_visual_analysis) (1.22.2)\n",
      "Requirement already satisfied: pandas>=1.1.0 in c:\\users\\namrata\\anaconda3\\lib\\site-packages (from pandas_visual_analysis) (1.1.3)\n",
      "Requirement already satisfied: ipykernel>=4.5.1 in c:\\users\\namrata\\anaconda3\\lib\\site-packages (from ipywidgets>=7.5.1->pandas_visual_analysis) (5.3.4)\n",
      "Requirement already satisfied: ipython>=4.0.0; python_version >= \"3.3\" in c:\\users\\namrata\\anaconda3\\lib\\site-packages (from ipywidgets>=7.5.1->pandas_visual_analysis) (7.19.0)\n",
      "Requirement already satisfied: nbformat>=4.2.0 in c:\\users\\namrata\\anaconda3\\lib\\site-packages (from ipywidgets>=7.5.1->pandas_visual_analysis) (5.0.8)\n",
      "Requirement already satisfied: traitlets>=4.3.1 in c:\\users\\namrata\\anaconda3\\lib\\site-packages (from ipywidgets>=7.5.1->pandas_visual_analysis) (5.0.5)\n",
      "Requirement already satisfied: widgetsnbextension~=3.5.0 in c:\\users\\namrata\\anaconda3\\lib\\site-packages (from ipywidgets>=7.5.1->pandas_visual_analysis) (3.5.1)\n",
      "Requirement already satisfied: tenacity>=6.2.0 in c:\\users\\namrata\\anaconda3\\lib\\site-packages (from plotly>=4.10.0->pandas_visual_analysis) (8.0.1)\n",
      "Requirement already satisfied: six in c:\\users\\namrata\\anaconda3\\lib\\site-packages (from plotly>=4.10.0->pandas_visual_analysis) (1.15.0)\n",
      "Requirement already satisfied: pytz>=2017.2 in c:\\users\\namrata\\anaconda3\\lib\\site-packages (from pandas>=1.1.0->pandas_visual_analysis) (2020.1)\n",
      "Requirement already satisfied: python-dateutil>=2.7.3 in c:\\users\\namrata\\anaconda3\\lib\\site-packages (from pandas>=1.1.0->pandas_visual_analysis) (2.8.1)\n",
      "Requirement already satisfied: jupyter-client in c:\\users\\namrata\\anaconda3\\lib\\site-packages (from ipykernel>=4.5.1->ipywidgets>=7.5.1->pandas_visual_analysis) (6.1.7)\n",
      "Requirement already satisfied: tornado>=4.2 in c:\\users\\namrata\\anaconda3\\lib\\site-packages (from ipykernel>=4.5.1->ipywidgets>=7.5.1->pandas_visual_analysis) (6.0.4)\n",
      "Requirement already satisfied: colorama; sys_platform == \"win32\" in c:\\users\\namrata\\anaconda3\\lib\\site-packages (from ipython>=4.0.0; python_version >= \"3.3\"->ipywidgets>=7.5.1->pandas_visual_analysis) (0.4.4)\n",
      "Requirement already satisfied: backcall in c:\\users\\namrata\\anaconda3\\lib\\site-packages (from ipython>=4.0.0; python_version >= \"3.3\"->ipywidgets>=7.5.1->pandas_visual_analysis) (0.2.0)\n",
      "Requirement already satisfied: jedi>=0.10 in c:\\users\\namrata\\anaconda3\\lib\\site-packages (from ipython>=4.0.0; python_version >= \"3.3\"->ipywidgets>=7.5.1->pandas_visual_analysis) (0.17.1)\n",
      "Requirement already satisfied: pygments in c:\\users\\namrata\\anaconda3\\lib\\site-packages (from ipython>=4.0.0; python_version >= \"3.3\"->ipywidgets>=7.5.1->pandas_visual_analysis) (2.7.2)\n",
      "Requirement already satisfied: decorator in c:\\users\\namrata\\anaconda3\\lib\\site-packages (from ipython>=4.0.0; python_version >= \"3.3\"->ipywidgets>=7.5.1->pandas_visual_analysis) (4.4.2)\n",
      "Requirement already satisfied: prompt-toolkit!=3.0.0,!=3.0.1,<3.1.0,>=2.0.0 in c:\\users\\namrata\\anaconda3\\lib\\site-packages (from ipython>=4.0.0; python_version >= \"3.3\"->ipywidgets>=7.5.1->pandas_visual_analysis) (3.0.8)\n",
      "Requirement already satisfied: pickleshare in c:\\users\\namrata\\anaconda3\\lib\\site-packages (from ipython>=4.0.0; python_version >= \"3.3\"->ipywidgets>=7.5.1->pandas_visual_analysis) (0.7.5)\n",
      "Requirement already satisfied: ipython-genutils in c:\\users\\namrata\\anaconda3\\lib\\site-packages (from nbformat>=4.2.0->ipywidgets>=7.5.1->pandas_visual_analysis) (0.2.0)\n",
      "Requirement already satisfied: jupyter-core in c:\\users\\namrata\\anaconda3\\lib\\site-packages (from nbformat>=4.2.0->ipywidgets>=7.5.1->pandas_visual_analysis) (4.6.3)\n",
      "Requirement already satisfied: jsonschema!=2.5.0,>=2.4 in c:\\users\\namrata\\anaconda3\\lib\\site-packages (from nbformat>=4.2.0->ipywidgets>=7.5.1->pandas_visual_analysis) (3.2.0)\n",
      "Requirement already satisfied: notebook>=4.4.1 in c:\\users\\namrata\\anaconda3\\lib\\site-packages (from widgetsnbextension~=3.5.0->ipywidgets>=7.5.1->pandas_visual_analysis) (6.1.4)\n",
      "Requirement already satisfied: pyzmq>=13 in c:\\users\\namrata\\anaconda3\\lib\\site-packages (from jupyter-client->ipykernel>=4.5.1->ipywidgets>=7.5.1->pandas_visual_analysis) (19.0.2)\n",
      "Requirement already satisfied: parso<0.8.0,>=0.7.0 in c:\\users\\namrata\\anaconda3\\lib\\site-packages (from jedi>=0.10->ipython>=4.0.0; python_version >= \"3.3\"->ipywidgets>=7.5.1->pandas_visual_analysis) (0.7.0)\n",
      "Requirement already satisfied: wcwidth in c:\\users\\namrata\\anaconda3\\lib\\site-packages (from prompt-toolkit!=3.0.0,!=3.0.1,<3.1.0,>=2.0.0->ipython>=4.0.0; python_version >= \"3.3\"->ipywidgets>=7.5.1->pandas_visual_analysis) (0.2.5)\n",
      "Requirement already satisfied: pywin32>=1.0; sys_platform == \"win32\" in c:\\users\\namrata\\anaconda3\\lib\\site-packages (from jupyter-core->nbformat>=4.2.0->ipywidgets>=7.5.1->pandas_visual_analysis) (227)\n",
      "Requirement already satisfied: pyrsistent>=0.14.0 in c:\\users\\namrata\\anaconda3\\lib\\site-packages (from jsonschema!=2.5.0,>=2.4->nbformat>=4.2.0->ipywidgets>=7.5.1->pandas_visual_analysis) (0.17.3)\n",
      "Requirement already satisfied: attrs>=17.4.0 in c:\\users\\namrata\\anaconda3\\lib\\site-packages (from jsonschema!=2.5.0,>=2.4->nbformat>=4.2.0->ipywidgets>=7.5.1->pandas_visual_analysis) (20.3.0)\n",
      "Requirement already satisfied: Send2Trash in c:\\users\\namrata\\anaconda3\\lib\\site-packages (from notebook>=4.4.1->widgetsnbextension~=3.5.0->ipywidgets>=7.5.1->pandas_visual_analysis) (1.5.0)\n",
      "Requirement already satisfied: nbconvert in c:\\users\\namrata\\anaconda3\\lib\\site-packages (from notebook>=4.4.1->widgetsnbextension~=3.5.0->ipywidgets>=7.5.1->pandas_visual_analysis) (6.0.7)\n",
      "Requirement already satisfied: terminado>=0.8.3 in c:\\users\\namrata\\anaconda3\\lib\\site-packages (from notebook>=4.4.1->widgetsnbextension~=3.5.0->ipywidgets>=7.5.1->pandas_visual_analysis) (0.9.1)\n",
      "Requirement already satisfied: prometheus-client in c:\\users\\namrata\\anaconda3\\lib\\site-packages (from notebook>=4.4.1->widgetsnbextension~=3.5.0->ipywidgets>=7.5.1->pandas_visual_analysis) (0.8.0)\n",
      "Requirement already satisfied: argon2-cffi in c:\\users\\namrata\\anaconda3\\lib\\site-packages (from notebook>=4.4.1->widgetsnbextension~=3.5.0->ipywidgets>=7.5.1->pandas_visual_analysis) (20.1.0)\n",
      "Requirement already satisfied: jinja2 in c:\\users\\namrata\\anaconda3\\lib\\site-packages (from notebook>=4.4.1->widgetsnbextension~=3.5.0->ipywidgets>=7.5.1->pandas_visual_analysis) (3.0.3)\n",
      "Requirement already satisfied: mistune<2,>=0.8.1 in c:\\users\\namrata\\anaconda3\\lib\\site-packages (from nbconvert->notebook>=4.4.1->widgetsnbextension~=3.5.0->ipywidgets>=7.5.1->pandas_visual_analysis) (0.8.4)\n",
      "Requirement already satisfied: defusedxml in c:\\users\\namrata\\anaconda3\\lib\\site-packages (from nbconvert->notebook>=4.4.1->widgetsnbextension~=3.5.0->ipywidgets>=7.5.1->pandas_visual_analysis) (0.6.0)\n",
      "Requirement already satisfied: testpath in c:\\users\\namrata\\anaconda3\\lib\\site-packages (from nbconvert->notebook>=4.4.1->widgetsnbextension~=3.5.0->ipywidgets>=7.5.1->pandas_visual_analysis) (0.4.4)\n",
      "Requirement already satisfied: bleach in c:\\users\\namrata\\anaconda3\\lib\\site-packages (from nbconvert->notebook>=4.4.1->widgetsnbextension~=3.5.0->ipywidgets>=7.5.1->pandas_visual_analysis) (3.2.1)\n",
      "Requirement already satisfied: nbclient<0.6.0,>=0.5.0 in c:\\users\\namrata\\anaconda3\\lib\\site-packages (from nbconvert->notebook>=4.4.1->widgetsnbextension~=3.5.0->ipywidgets>=7.5.1->pandas_visual_analysis) (0.5.1)\n",
      "Requirement already satisfied: entrypoints>=0.2.2 in c:\\users\\namrata\\anaconda3\\lib\\site-packages (from nbconvert->notebook>=4.4.1->widgetsnbextension~=3.5.0->ipywidgets>=7.5.1->pandas_visual_analysis) (0.3)\n",
      "Requirement already satisfied: jupyterlab-pygments in c:\\users\\namrata\\anaconda3\\lib\\site-packages (from nbconvert->notebook>=4.4.1->widgetsnbextension~=3.5.0->ipywidgets>=7.5.1->pandas_visual_analysis) (0.1.2)\n",
      "Requirement already satisfied: pandocfilters>=1.4.1 in c:\\users\\namrata\\anaconda3\\lib\\site-packages (from nbconvert->notebook>=4.4.1->widgetsnbextension~=3.5.0->ipywidgets>=7.5.1->pandas_visual_analysis) (1.4.3)\n",
      "Requirement already satisfied: pywinpty>=0.5 in c:\\users\\namrata\\anaconda3\\lib\\site-packages (from terminado>=0.8.3->notebook>=4.4.1->widgetsnbextension~=3.5.0->ipywidgets>=7.5.1->pandas_visual_analysis) (0.5.7)\n",
      "Requirement already satisfied: cffi>=1.0.0 in c:\\users\\namrata\\anaconda3\\lib\\site-packages (from argon2-cffi->notebook>=4.4.1->widgetsnbextension~=3.5.0->ipywidgets>=7.5.1->pandas_visual_analysis) (1.14.3)\n",
      "Requirement already satisfied: MarkupSafe>=2.0 in c:\\users\\namrata\\anaconda3\\lib\\site-packages (from jinja2->notebook>=4.4.1->widgetsnbextension~=3.5.0->ipywidgets>=7.5.1->pandas_visual_analysis) (2.1.0)\n",
      "Requirement already satisfied: packaging in c:\\users\\namrata\\anaconda3\\lib\\site-packages (from bleach->nbconvert->notebook>=4.4.1->widgetsnbextension~=3.5.0->ipywidgets>=7.5.1->pandas_visual_analysis) (20.4)\n",
      "Requirement already satisfied: webencodings in c:\\users\\namrata\\anaconda3\\lib\\site-packages (from bleach->nbconvert->notebook>=4.4.1->widgetsnbextension~=3.5.0->ipywidgets>=7.5.1->pandas_visual_analysis) (0.5.1)\n",
      "Requirement already satisfied: async-generator in c:\\users\\namrata\\anaconda3\\lib\\site-packages (from nbclient<0.6.0,>=0.5.0->nbconvert->notebook>=4.4.1->widgetsnbextension~=3.5.0->ipywidgets>=7.5.1->pandas_visual_analysis) (1.10)\n",
      "Requirement already satisfied: nest-asyncio in c:\\users\\namrata\\anaconda3\\lib\\site-packages (from nbclient<0.6.0,>=0.5.0->nbconvert->notebook>=4.4.1->widgetsnbextension~=3.5.0->ipywidgets>=7.5.1->pandas_visual_analysis) (1.4.2)\n",
      "Requirement already satisfied: pycparser in c:\\users\\namrata\\anaconda3\\lib\\site-packages (from cffi>=1.0.0->argon2-cffi->notebook>=4.4.1->widgetsnbextension~=3.5.0->ipywidgets>=7.5.1->pandas_visual_analysis) (2.20)\n",
      "Requirement already satisfied: pyparsing>=2.0.2 in c:\\users\\namrata\\anaconda3\\lib\\site-packages (from packaging->bleach->nbconvert->notebook>=4.4.1->widgetsnbextension~=3.5.0->ipywidgets>=7.5.1->pandas_visual_analysis) (2.4.7)\n",
      "Installing collected packages: pandas-visual-analysis\n",
      "Successfully installed pandas-visual-analysis-0.0.4\n"
     ]
    }
   ],
   "source": [
    "!pip install pandas_visual_analysis"
   ]
  },
  {
   "cell_type": "code",
   "execution_count": 32,
   "metadata": {},
   "outputs": [
    {
     "data": {
      "application/vnd.jupyter.widget-view+json": {
       "model_id": "d2ff1a85eb174875b5ca2dd4a838c3ca",
       "version_major": 2,
       "version_minor": 0
      },
      "text/plain": [
       "VBox(children=(ToggleButtons(_dom_classes=('layout-ed00e18a002e4e268d499465c9a90b58',), description='Selection…"
      ]
     },
     "metadata": {},
     "output_type": "display_data"
    }
   ],
   "source": [
    "from pandas_visual_analysis import VisualAnalysis\n",
    "VisualAnalysis(df)"
   ]
  },
  {
   "cell_type": "code",
   "execution_count": null,
   "metadata": {},
   "outputs": [],
   "source": []
  }
 ],
 "metadata": {
  "kernelspec": {
   "display_name": "Python 3",
   "language": "python",
   "name": "python3"
  },
  "language_info": {
   "codemirror_mode": {
    "name": "ipython",
    "version": 3
   },
   "file_extension": ".py",
   "mimetype": "text/x-python",
   "name": "python",
   "nbconvert_exporter": "python",
   "pygments_lexer": "ipython3",
   "version": "3.8.5"
  }
 },
 "nbformat": 4,
 "nbformat_minor": 4
}
